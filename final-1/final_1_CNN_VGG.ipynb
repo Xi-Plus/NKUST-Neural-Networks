{
  "nbformat": 4,
  "nbformat_minor": 0,
  "metadata": {
    "colab": {
      "name": "final-1_CNN_VGG.ipynb",
      "provenance": []
    },
    "kernelspec": {
      "name": "python3",
      "display_name": "Python 3"
    },
    "accelerator": "GPU"
  },
  "cells": [
    {
      "cell_type": "markdown",
      "metadata": {
        "id": "0Bi5H_o73LiY",
        "colab_type": "text"
      },
      "source": [
        "## 判斷是否使用Google colab執行\n",
        "若是，則從Google Drive掛載資料，Google colab專用 否則應設定 ROOT_DIR"
      ]
    },
    {
      "cell_type": "code",
      "metadata": {
        "id": "nJ26j8Q-2NsW",
        "colab_type": "code",
        "colab": {
          "base_uri": "https://localhost:8080/",
          "height": 50
        },
        "outputId": "aa797f24-c17b-4cbb-b634-20b02ce06b1b"
      },
      "source": [
        "try:\n",
        "    from google.colab import drive\n",
        "    IN_COLAB = True\n",
        "except:\n",
        "    IN_COLAB = False\n",
        "\n",
        "print('IN_COLAB', IN_COLAB)\n",
        "\n",
        "if IN_COLAB:\n",
        "    drive.mount('/content/drive', force_remount=True)\n",
        "    ROOT_DIR = '/content/drive/Shared drives/Straight A students/類神經網路/flowers'\n",
        "else:\n",
        "    ROOT_DIR = 'flowers'"
      ],
      "execution_count": 1,
      "outputs": [
        {
          "output_type": "stream",
          "text": [
            "IN_COLAB True\n",
            "Mounted at /content/drive\n"
          ],
          "name": "stdout"
        }
      ]
    },
    {
      "cell_type": "markdown",
      "metadata": {
        "id": "MX9q_fkgx_pi",
        "colab_type": "text"
      },
      "source": [
        "## 常數設定"
      ]
    },
    {
      "cell_type": "code",
      "metadata": {
        "id": "cvpcZJOh4MpG",
        "colab_type": "code",
        "colab": {}
      },
      "source": [
        "import torch\n",
        "\n",
        "torch.manual_seed(1)\n",
        "n_epoch = 10\n",
        "batch_size = 128\n",
        "learning_rate = 0.0002\n",
        "USE_BUILT_IN_VGG = False # 是否使用內建VGG"
      ],
      "execution_count": 0,
      "outputs": []
    },
    {
      "cell_type": "markdown",
      "metadata": {
        "id": "1DbGNzPT3QY4",
        "colab_type": "text"
      },
      "source": [
        "## imports"
      ]
    },
    {
      "cell_type": "code",
      "metadata": {
        "id": "hrnLj17b26dN",
        "colab_type": "code",
        "colab": {}
      },
      "source": [
        "import torchvision\n",
        "from torch import nn\n",
        "from torch.autograd import Variable\n",
        "from torch.utils.data import DataLoader\n",
        "from torchvision import transforms\n",
        "import matplotlib.pyplot as plt\n",
        "import numpy as np"
      ],
      "execution_count": 0,
      "outputs": []
    },
    {
      "cell_type": "markdown",
      "metadata": {
        "id": "h9iMWHZu3Sj2",
        "colab_type": "text"
      },
      "source": [
        "## VGG"
      ]
    },
    {
      "cell_type": "code",
      "metadata": {
        "id": "JyiwsoVA20im",
        "colab_type": "code",
        "colab": {}
      },
      "source": [
        "cfg = {\n",
        "    'VGG11': [64, 'M', 128, 'M', 256, 256, 'M', 512, 512, 'M', 512, 512, 'M'],\n",
        "    'VGG13': [64, 64, 'M', 128, 128, 'M', 256, 256, 'M', 512, 512, 'M', 512, 512, 'M'],\n",
        "    'VGG16': [64, 64, 'M', 128, 128, 'M', 256, 256, 256, 'M', 512, 512, 512, 'M', 512, 512, 512, 'M'],\n",
        "    'VGG19': [64, 64, 'M', 128, 128, 'M', 256, 256, 256, 256, 'M', 512, 512, 512, 512, 'M', 512, 512, 512, 512, 'M']\n",
        "}"
      ],
      "execution_count": 0,
      "outputs": []
    },
    {
      "cell_type": "code",
      "metadata": {
        "id": "DBeVWB-T23Bl",
        "colab_type": "code",
        "colab": {}
      },
      "source": [
        "class VGG(torch.nn.Module):\n",
        "    def __init__(self, vgg_name):\n",
        "        super(VGG, self).__init__()\n",
        "        self.features = self._make_layers(cfg[vgg_name])\n",
        "        self.classifier = nn.Sequential(\n",
        "            nn.Linear(25088, 4096),\n",
        "            nn.ReLU(),\n",
        "            nn.Linear(4096, 4096),\n",
        "            nn.ReLU(),\n",
        "            nn.Linear(4096, 1000),\n",
        "        )\n",
        "    \n",
        "    def forward(self, x):\n",
        "        out = self.features(x)\n",
        "        out = out.view(out.size(0), -1)\n",
        "        out = self.classifier(out)\n",
        "        return out\n",
        "    \n",
        "    def _make_layers(self, cfg):\n",
        "        layers = []\n",
        "        in_channels = 3\n",
        "        for x in cfg:\n",
        "            if x == 'M':\n",
        "                layers += [torch.nn.MaxPool2d(kernel_size = 2, stride = 2)]\n",
        "            else:\n",
        "                layers += [torch.nn.Conv2d(in_channels, x, kernel_size = 3, padding = 1), torch.nn.BatchNorm2d(x), torch.nn.ReLU(inplace = True)]\n",
        "                in_channels = x\n",
        "        layers += [torch.nn.AvgPool2d(kernel_size = 1, stride = 1)]\n",
        "        return torch.nn.Sequential(*layers)"
      ],
      "execution_count": 0,
      "outputs": []
    },
    {
      "cell_type": "markdown",
      "metadata": {
        "id": "J3DzzPZi3pcX",
        "colab_type": "text"
      },
      "source": [
        "## Load data"
      ]
    },
    {
      "cell_type": "code",
      "metadata": {
        "id": "9RwnO-n43rg-",
        "colab_type": "code",
        "colab": {
          "base_uri": "https://localhost:8080/",
          "height": 151
        },
        "outputId": "9b257772-9698-4e05-b824-8da43bee9754"
      },
      "source": [
        "flowers_dataset = torchvision.datasets.ImageFolder(\n",
        "    ROOT_DIR,\n",
        "    transform=torchvision.transforms.Compose([\n",
        "        torchvision.transforms.Resize((224, 224)),\n",
        "        torchvision.transforms.ToTensor()\n",
        "    ])\n",
        ")\n",
        "print(flowers_dataset)\n",
        "train_loader = DataLoader(dataset = flowers_dataset, batch_size = batch_size, shuffle = True)"
      ],
      "execution_count": 6,
      "outputs": [
        {
          "output_type": "stream",
          "text": [
            "Dataset ImageFolder\n",
            "    Number of datapoints: 4323\n",
            "    Root location: /content/drive/Shared drives/Straight A students/類神經網路/flowers\n",
            "    StandardTransform\n",
            "Transform: Compose(\n",
            "               Resize(size=(224, 224), interpolation=PIL.Image.BILINEAR)\n",
            "               ToTensor()\n",
            "           )\n"
          ],
          "name": "stdout"
        }
      ]
    },
    {
      "cell_type": "markdown",
      "metadata": {
        "id": "XdwoqMTT3Vmw",
        "colab_type": "text"
      },
      "source": [
        "## 主程式"
      ]
    },
    {
      "cell_type": "code",
      "metadata": {
        "id": "pKw_jwBE245G",
        "colab_type": "code",
        "colab": {
          "base_uri": "https://localhost:8080/",
          "height": 706
        },
        "outputId": "beee5d03-2b81-4fea-9ec1-2d686ee4aaf6"
      },
      "source": [
        "if USE_BUILT_IN_VGG:\n",
        "    model = torchvision.models.vgg11()\n",
        "else:\n",
        "    model = VGG('VGG11').cuda()\n",
        "print(model)"
      ],
      "execution_count": 7,
      "outputs": [
        {
          "output_type": "stream",
          "text": [
            "VGG(\n",
            "  (features): Sequential(\n",
            "    (0): Conv2d(3, 64, kernel_size=(3, 3), stride=(1, 1), padding=(1, 1))\n",
            "    (1): BatchNorm2d(64, eps=1e-05, momentum=0.1, affine=True, track_running_stats=True)\n",
            "    (2): ReLU(inplace=True)\n",
            "    (3): MaxPool2d(kernel_size=2, stride=2, padding=0, dilation=1, ceil_mode=False)\n",
            "    (4): Conv2d(64, 128, kernel_size=(3, 3), stride=(1, 1), padding=(1, 1))\n",
            "    (5): BatchNorm2d(128, eps=1e-05, momentum=0.1, affine=True, track_running_stats=True)\n",
            "    (6): ReLU(inplace=True)\n",
            "    (7): MaxPool2d(kernel_size=2, stride=2, padding=0, dilation=1, ceil_mode=False)\n",
            "    (8): Conv2d(128, 256, kernel_size=(3, 3), stride=(1, 1), padding=(1, 1))\n",
            "    (9): BatchNorm2d(256, eps=1e-05, momentum=0.1, affine=True, track_running_stats=True)\n",
            "    (10): ReLU(inplace=True)\n",
            "    (11): Conv2d(256, 256, kernel_size=(3, 3), stride=(1, 1), padding=(1, 1))\n",
            "    (12): BatchNorm2d(256, eps=1e-05, momentum=0.1, affine=True, track_running_stats=True)\n",
            "    (13): ReLU(inplace=True)\n",
            "    (14): MaxPool2d(kernel_size=2, stride=2, padding=0, dilation=1, ceil_mode=False)\n",
            "    (15): Conv2d(256, 512, kernel_size=(3, 3), stride=(1, 1), padding=(1, 1))\n",
            "    (16): BatchNorm2d(512, eps=1e-05, momentum=0.1, affine=True, track_running_stats=True)\n",
            "    (17): ReLU(inplace=True)\n",
            "    (18): Conv2d(512, 512, kernel_size=(3, 3), stride=(1, 1), padding=(1, 1))\n",
            "    (19): BatchNorm2d(512, eps=1e-05, momentum=0.1, affine=True, track_running_stats=True)\n",
            "    (20): ReLU(inplace=True)\n",
            "    (21): MaxPool2d(kernel_size=2, stride=2, padding=0, dilation=1, ceil_mode=False)\n",
            "    (22): Conv2d(512, 512, kernel_size=(3, 3), stride=(1, 1), padding=(1, 1))\n",
            "    (23): BatchNorm2d(512, eps=1e-05, momentum=0.1, affine=True, track_running_stats=True)\n",
            "    (24): ReLU(inplace=True)\n",
            "    (25): Conv2d(512, 512, kernel_size=(3, 3), stride=(1, 1), padding=(1, 1))\n",
            "    (26): BatchNorm2d(512, eps=1e-05, momentum=0.1, affine=True, track_running_stats=True)\n",
            "    (27): ReLU(inplace=True)\n",
            "    (28): MaxPool2d(kernel_size=2, stride=2, padding=0, dilation=1, ceil_mode=False)\n",
            "    (29): AvgPool2d(kernel_size=1, stride=1, padding=0)\n",
            "  )\n",
            "  (classifier): Sequential(\n",
            "    (0): Linear(in_features=25088, out_features=4096, bias=True)\n",
            "    (1): ReLU()\n",
            "    (2): Linear(in_features=4096, out_features=4096, bias=True)\n",
            "    (3): ReLU()\n",
            "    (4): Linear(in_features=4096, out_features=1000, bias=True)\n",
            "  )\n",
            ")\n"
          ],
          "name": "stdout"
        }
      ]
    },
    {
      "cell_type": "code",
      "metadata": {
        "id": "eSqC2Yly7zDH",
        "colab_type": "code",
        "colab": {
          "base_uri": "https://localhost:8080/",
          "height": 1000
        },
        "outputId": "f7c1c3df-cd54-4416-c16b-52886d226bf4"
      },
      "source": [
        "loss_func = nn.CrossEntropyLoss()\n",
        "optimizer = torch.optim.Adam(model.classifier.parameters(), lr = learning_rate)\n",
        "\n",
        "for I in range(n_epoch):\n",
        "    J = 0\n",
        "    for image, label in train_loader:\n",
        "        J += 1\n",
        "        image = Variable(image).cuda()\n",
        "        label = Variable(label).cuda()\n",
        "        # print(image.shape, label.shape)\n",
        "        optimizer.zero_grad()\n",
        "        output = model(image)\n",
        "        loss = loss_func(output, label)\n",
        "        loss.backward()\n",
        "        optimizer.step()\n",
        "\n",
        "        print('epoch [{}-{}/{}], loss:{:.4f}'.format(I + 1, J, n_epoch, loss.data.item()))"
      ],
      "execution_count": 8,
      "outputs": [
        {
          "output_type": "stream",
          "text": [
            "epoch [1-1/10], loss:6.8434\n",
            "epoch [1-2/10], loss:3.4622\n",
            "epoch [1-3/10], loss:8.5674\n",
            "epoch [1-4/10], loss:14.6847\n",
            "epoch [1-5/10], loss:11.0234\n",
            "epoch [1-6/10], loss:12.4361\n",
            "epoch [1-7/10], loss:6.7042\n",
            "epoch [1-8/10], loss:3.8066\n",
            "epoch [1-9/10], loss:1.8272\n",
            "epoch [1-10/10], loss:2.3963\n",
            "epoch [1-11/10], loss:2.2199\n",
            "epoch [1-12/10], loss:2.5620\n",
            "epoch [1-13/10], loss:2.1457\n",
            "epoch [1-14/10], loss:2.4197\n",
            "epoch [1-15/10], loss:1.7821\n",
            "epoch [1-16/10], loss:1.8058\n",
            "epoch [1-17/10], loss:1.6406\n",
            "epoch [1-18/10], loss:1.5397\n",
            "epoch [1-19/10], loss:1.7015\n",
            "epoch [1-20/10], loss:1.7999\n",
            "epoch [1-21/10], loss:1.4455\n",
            "epoch [1-22/10], loss:1.3956\n",
            "epoch [1-23/10], loss:1.4808\n",
            "epoch [1-24/10], loss:1.4279\n",
            "epoch [1-25/10], loss:1.5493\n",
            "epoch [1-26/10], loss:1.4110\n",
            "epoch [1-27/10], loss:1.3908\n",
            "epoch [1-28/10], loss:1.3757\n",
            "epoch [1-29/10], loss:1.3689\n",
            "epoch [1-30/10], loss:1.3224\n",
            "epoch [1-31/10], loss:1.4942\n",
            "epoch [1-32/10], loss:1.3221\n",
            "epoch [1-33/10], loss:1.2221\n",
            "epoch [1-34/10], loss:1.3661\n",
            "epoch [2-1/10], loss:1.2362\n",
            "epoch [2-2/10], loss:1.2935\n",
            "epoch [2-3/10], loss:1.3202\n",
            "epoch [2-4/10], loss:1.2851\n",
            "epoch [2-5/10], loss:1.2225\n",
            "epoch [2-6/10], loss:1.1689\n",
            "epoch [2-7/10], loss:1.1066\n",
            "epoch [2-8/10], loss:1.1634\n",
            "epoch [2-9/10], loss:1.2109\n",
            "epoch [2-10/10], loss:1.0804\n",
            "epoch [2-11/10], loss:0.9902\n",
            "epoch [2-12/10], loss:1.2041\n",
            "epoch [2-13/10], loss:1.1492\n",
            "epoch [2-14/10], loss:1.1189\n",
            "epoch [2-15/10], loss:1.1111\n",
            "epoch [2-16/10], loss:1.1132\n",
            "epoch [2-17/10], loss:1.0895\n",
            "epoch [2-18/10], loss:1.0798\n",
            "epoch [2-19/10], loss:0.9792\n",
            "epoch [2-20/10], loss:1.0507\n",
            "epoch [2-21/10], loss:1.0609\n",
            "epoch [2-22/10], loss:1.1262\n",
            "epoch [2-23/10], loss:1.0595\n",
            "epoch [2-24/10], loss:1.0824\n",
            "epoch [2-25/10], loss:1.1021\n",
            "epoch [2-26/10], loss:1.1081\n",
            "epoch [2-27/10], loss:1.0415\n",
            "epoch [2-28/10], loss:1.0725\n",
            "epoch [2-29/10], loss:1.0622\n",
            "epoch [2-30/10], loss:0.9564\n",
            "epoch [2-31/10], loss:1.0014\n",
            "epoch [2-32/10], loss:1.0589\n",
            "epoch [2-33/10], loss:0.9846\n",
            "epoch [2-34/10], loss:1.0456\n",
            "epoch [3-1/10], loss:1.2110\n",
            "epoch [3-2/10], loss:0.9066\n",
            "epoch [3-3/10], loss:0.9991\n",
            "epoch [3-4/10], loss:1.1998\n",
            "epoch [3-5/10], loss:1.1606\n",
            "epoch [3-6/10], loss:1.0196\n",
            "epoch [3-7/10], loss:1.0606\n",
            "epoch [3-8/10], loss:1.0910\n",
            "epoch [3-9/10], loss:0.9233\n",
            "epoch [3-10/10], loss:0.9684\n",
            "epoch [3-11/10], loss:0.9152\n",
            "epoch [3-12/10], loss:1.0435\n",
            "epoch [3-13/10], loss:0.9846\n",
            "epoch [3-14/10], loss:0.8578\n",
            "epoch [3-15/10], loss:1.1512\n",
            "epoch [3-16/10], loss:0.8778\n",
            "epoch [3-17/10], loss:0.9140\n",
            "epoch [3-18/10], loss:0.8887\n",
            "epoch [3-19/10], loss:0.9565\n",
            "epoch [3-20/10], loss:1.0526\n",
            "epoch [3-21/10], loss:0.9394\n",
            "epoch [3-22/10], loss:0.9578\n",
            "epoch [3-23/10], loss:0.9455\n",
            "epoch [3-24/10], loss:1.0135\n",
            "epoch [3-25/10], loss:1.0572\n",
            "epoch [3-26/10], loss:0.9542\n",
            "epoch [3-27/10], loss:0.9655\n",
            "epoch [3-28/10], loss:0.7992\n",
            "epoch [3-29/10], loss:0.8066\n",
            "epoch [3-30/10], loss:0.9941\n",
            "epoch [3-31/10], loss:0.9697\n",
            "epoch [3-32/10], loss:0.9315\n",
            "epoch [3-33/10], loss:0.7677\n",
            "epoch [3-34/10], loss:0.9207\n",
            "epoch [4-1/10], loss:0.8193\n",
            "epoch [4-2/10], loss:0.8419\n",
            "epoch [4-3/10], loss:0.7172\n",
            "epoch [4-4/10], loss:0.7870\n",
            "epoch [4-5/10], loss:0.8508\n",
            "epoch [4-6/10], loss:0.8191\n",
            "epoch [4-7/10], loss:0.8104\n",
            "epoch [4-8/10], loss:0.8374\n",
            "epoch [4-9/10], loss:0.9044\n",
            "epoch [4-10/10], loss:0.7566\n",
            "epoch [4-11/10], loss:0.8204\n",
            "epoch [4-12/10], loss:0.9075\n",
            "epoch [4-13/10], loss:0.7557\n",
            "epoch [4-14/10], loss:0.8370\n",
            "epoch [4-15/10], loss:0.7977\n",
            "epoch [4-16/10], loss:0.8736\n",
            "epoch [4-17/10], loss:0.5921\n",
            "epoch [4-18/10], loss:0.9393\n",
            "epoch [4-19/10], loss:0.7946\n",
            "epoch [4-20/10], loss:1.0539\n",
            "epoch [4-21/10], loss:0.7406\n",
            "epoch [4-22/10], loss:0.7825\n",
            "epoch [4-23/10], loss:0.8879\n",
            "epoch [4-24/10], loss:0.7398\n",
            "epoch [4-25/10], loss:0.8130\n",
            "epoch [4-26/10], loss:0.8233\n",
            "epoch [4-27/10], loss:0.9652\n",
            "epoch [4-28/10], loss:0.7213\n",
            "epoch [4-29/10], loss:0.7128\n",
            "epoch [4-30/10], loss:0.7121\n",
            "epoch [4-31/10], loss:0.8086\n",
            "epoch [4-32/10], loss:0.6639\n",
            "epoch [4-33/10], loss:0.8877\n",
            "epoch [4-34/10], loss:0.7873\n",
            "epoch [5-1/10], loss:0.8878\n",
            "epoch [5-2/10], loss:0.7487\n",
            "epoch [5-3/10], loss:0.6997\n",
            "epoch [5-4/10], loss:0.8322\n",
            "epoch [5-5/10], loss:0.7019\n",
            "epoch [5-6/10], loss:0.6476\n",
            "epoch [5-7/10], loss:0.7997\n",
            "epoch [5-8/10], loss:0.8147\n",
            "epoch [5-9/10], loss:0.6564\n",
            "epoch [5-10/10], loss:0.6731\n",
            "epoch [5-11/10], loss:0.7865\n",
            "epoch [5-12/10], loss:0.6832\n",
            "epoch [5-13/10], loss:0.7242\n",
            "epoch [5-14/10], loss:0.7852\n",
            "epoch [5-15/10], loss:0.7312\n",
            "epoch [5-16/10], loss:0.7219\n",
            "epoch [5-17/10], loss:0.6359\n",
            "epoch [5-18/10], loss:0.6158\n",
            "epoch [5-19/10], loss:0.8645\n",
            "epoch [5-20/10], loss:0.6135\n",
            "epoch [5-21/10], loss:0.7266\n",
            "epoch [5-22/10], loss:0.6940\n",
            "epoch [5-23/10], loss:0.6999\n",
            "epoch [5-24/10], loss:0.7732\n",
            "epoch [5-25/10], loss:0.6296\n",
            "epoch [5-26/10], loss:0.7743\n",
            "epoch [5-27/10], loss:0.7549\n",
            "epoch [5-28/10], loss:0.6693\n",
            "epoch [5-29/10], loss:0.7159\n",
            "epoch [5-30/10], loss:0.6953\n",
            "epoch [5-31/10], loss:0.7150\n",
            "epoch [5-32/10], loss:0.8002\n",
            "epoch [5-33/10], loss:0.6281\n",
            "epoch [5-34/10], loss:0.7243\n",
            "epoch [6-1/10], loss:0.6042\n",
            "epoch [6-2/10], loss:0.7895\n",
            "epoch [6-3/10], loss:0.5987\n",
            "epoch [6-4/10], loss:0.7494\n",
            "epoch [6-5/10], loss:0.6504\n",
            "epoch [6-6/10], loss:0.7334\n",
            "epoch [6-7/10], loss:0.5544\n",
            "epoch [6-8/10], loss:0.6796\n",
            "epoch [6-9/10], loss:0.5163\n",
            "epoch [6-10/10], loss:0.6818\n",
            "epoch [6-11/10], loss:0.6070\n",
            "epoch [6-12/10], loss:0.7189\n",
            "epoch [6-13/10], loss:0.5586\n",
            "epoch [6-14/10], loss:0.6193\n",
            "epoch [6-15/10], loss:0.5275\n",
            "epoch [6-16/10], loss:0.6233\n",
            "epoch [6-17/10], loss:0.5657\n",
            "epoch [6-18/10], loss:0.5781\n",
            "epoch [6-19/10], loss:0.5424\n",
            "epoch [6-20/10], loss:0.5868\n",
            "epoch [6-21/10], loss:0.5757\n",
            "epoch [6-22/10], loss:0.4710\n",
            "epoch [6-23/10], loss:0.4933\n",
            "epoch [6-24/10], loss:0.5147\n",
            "epoch [6-25/10], loss:0.5327\n",
            "epoch [6-26/10], loss:0.4108\n",
            "epoch [6-27/10], loss:0.4957\n",
            "epoch [6-28/10], loss:0.5463\n",
            "epoch [6-29/10], loss:0.5312\n",
            "epoch [6-30/10], loss:0.4209\n",
            "epoch [6-31/10], loss:0.6043\n",
            "epoch [6-32/10], loss:0.5694\n",
            "epoch [6-33/10], loss:0.5524\n",
            "epoch [6-34/10], loss:0.5478\n",
            "epoch [7-1/10], loss:0.5365\n",
            "epoch [7-2/10], loss:0.6237\n",
            "epoch [7-3/10], loss:0.4552\n",
            "epoch [7-4/10], loss:0.5812\n",
            "epoch [7-5/10], loss:0.7420\n",
            "epoch [7-6/10], loss:0.7111\n",
            "epoch [7-7/10], loss:0.6198\n",
            "epoch [7-8/10], loss:0.6996\n",
            "epoch [7-9/10], loss:0.3851\n",
            "epoch [7-10/10], loss:0.7778\n",
            "epoch [7-11/10], loss:0.5921\n",
            "epoch [7-12/10], loss:0.4925\n",
            "epoch [7-13/10], loss:0.4552\n",
            "epoch [7-14/10], loss:0.6345\n",
            "epoch [7-15/10], loss:0.4612\n",
            "epoch [7-16/10], loss:0.6479\n",
            "epoch [7-17/10], loss:0.5084\n",
            "epoch [7-18/10], loss:0.6246\n",
            "epoch [7-19/10], loss:0.6880\n",
            "epoch [7-20/10], loss:0.5725\n",
            "epoch [7-21/10], loss:0.6629\n",
            "epoch [7-22/10], loss:0.5534\n",
            "epoch [7-23/10], loss:1.0839\n",
            "epoch [7-24/10], loss:0.4471\n",
            "epoch [7-25/10], loss:0.5452\n",
            "epoch [7-26/10], loss:0.7138\n",
            "epoch [7-27/10], loss:0.6155\n",
            "epoch [7-28/10], loss:0.6283\n",
            "epoch [7-29/10], loss:0.5325\n",
            "epoch [7-30/10], loss:0.7335\n",
            "epoch [7-31/10], loss:0.6313\n",
            "epoch [7-32/10], loss:0.7308\n",
            "epoch [7-33/10], loss:0.5568\n",
            "epoch [7-34/10], loss:0.4355\n",
            "epoch [8-1/10], loss:0.6749\n",
            "epoch [8-2/10], loss:0.5577\n",
            "epoch [8-3/10], loss:0.6060\n",
            "epoch [8-4/10], loss:0.4397\n",
            "epoch [8-5/10], loss:0.5968\n",
            "epoch [8-6/10], loss:0.4152\n",
            "epoch [8-7/10], loss:0.4589\n",
            "epoch [8-8/10], loss:0.4378\n",
            "epoch [8-9/10], loss:0.3495\n",
            "epoch [8-10/10], loss:0.3956\n",
            "epoch [8-11/10], loss:0.5147\n",
            "epoch [8-12/10], loss:0.5059\n",
            "epoch [8-13/10], loss:0.4419\n",
            "epoch [8-14/10], loss:0.4196\n",
            "epoch [8-15/10], loss:0.4109\n",
            "epoch [8-16/10], loss:0.3380\n",
            "epoch [8-17/10], loss:0.3906\n",
            "epoch [8-18/10], loss:0.4049\n",
            "epoch [8-19/10], loss:0.4685\n",
            "epoch [8-20/10], loss:0.4006\n",
            "epoch [8-21/10], loss:0.3772\n",
            "epoch [8-22/10], loss:0.3640\n",
            "epoch [8-23/10], loss:0.4466\n",
            "epoch [8-24/10], loss:0.3117\n",
            "epoch [8-25/10], loss:0.3832\n",
            "epoch [8-26/10], loss:0.3552\n",
            "epoch [8-27/10], loss:0.3229\n",
            "epoch [8-28/10], loss:0.4594\n",
            "epoch [8-29/10], loss:0.3167\n",
            "epoch [8-30/10], loss:0.4258\n",
            "epoch [8-31/10], loss:0.3603\n",
            "epoch [8-32/10], loss:0.3704\n",
            "epoch [8-33/10], loss:0.3037\n",
            "epoch [8-34/10], loss:0.3451\n",
            "epoch [9-1/10], loss:0.4345\n",
            "epoch [9-2/10], loss:0.3376\n",
            "epoch [9-3/10], loss:0.3542\n",
            "epoch [9-4/10], loss:0.3375\n",
            "epoch [9-5/10], loss:0.5180\n",
            "epoch [9-6/10], loss:0.2690\n",
            "epoch [9-7/10], loss:0.5300\n",
            "epoch [9-8/10], loss:0.3626\n",
            "epoch [9-9/10], loss:0.2968\n",
            "epoch [9-10/10], loss:0.4084\n",
            "epoch [9-11/10], loss:0.2749\n",
            "epoch [9-12/10], loss:0.3143\n",
            "epoch [9-13/10], loss:0.3591\n",
            "epoch [9-14/10], loss:0.2686\n",
            "epoch [9-15/10], loss:0.2168\n",
            "epoch [9-16/10], loss:0.3538\n",
            "epoch [9-17/10], loss:0.2691\n",
            "epoch [9-18/10], loss:0.4443\n",
            "epoch [9-19/10], loss:0.2254\n",
            "epoch [9-20/10], loss:0.3043\n",
            "epoch [9-21/10], loss:0.4446\n",
            "epoch [9-22/10], loss:0.3074\n",
            "epoch [9-23/10], loss:0.5628\n",
            "epoch [9-24/10], loss:0.2732\n",
            "epoch [9-25/10], loss:0.4138\n",
            "epoch [9-26/10], loss:0.5534\n",
            "epoch [9-27/10], loss:0.3224\n",
            "epoch [9-28/10], loss:0.2581\n",
            "epoch [9-29/10], loss:0.3803\n",
            "epoch [9-30/10], loss:0.3682\n",
            "epoch [9-31/10], loss:0.3048\n",
            "epoch [9-32/10], loss:0.3129\n",
            "epoch [9-33/10], loss:0.3579\n",
            "epoch [9-34/10], loss:0.2171\n",
            "epoch [10-1/10], loss:0.2423\n",
            "epoch [10-2/10], loss:0.2846\n",
            "epoch [10-3/10], loss:0.2118\n",
            "epoch [10-4/10], loss:0.2470\n",
            "epoch [10-5/10], loss:0.2380\n",
            "epoch [10-6/10], loss:0.2064\n",
            "epoch [10-7/10], loss:0.2349\n",
            "epoch [10-8/10], loss:0.2954\n",
            "epoch [10-9/10], loss:0.1696\n",
            "epoch [10-10/10], loss:0.2834\n",
            "epoch [10-11/10], loss:0.1859\n",
            "epoch [10-12/10], loss:0.2386\n",
            "epoch [10-13/10], loss:0.1999\n",
            "epoch [10-14/10], loss:0.2129\n",
            "epoch [10-15/10], loss:0.1689\n",
            "epoch [10-16/10], loss:0.1987\n",
            "epoch [10-17/10], loss:0.1935\n",
            "epoch [10-18/10], loss:0.2129\n",
            "epoch [10-19/10], loss:0.2224\n",
            "epoch [10-20/10], loss:0.2628\n",
            "epoch [10-21/10], loss:0.2037\n",
            "epoch [10-22/10], loss:0.1975\n",
            "epoch [10-23/10], loss:0.2464\n",
            "epoch [10-24/10], loss:0.1903\n",
            "epoch [10-25/10], loss:0.2090\n",
            "epoch [10-26/10], loss:0.2011\n",
            "epoch [10-27/10], loss:0.1953\n",
            "epoch [10-28/10], loss:0.3158\n",
            "epoch [10-29/10], loss:0.2548\n",
            "epoch [10-30/10], loss:0.2676\n",
            "epoch [10-31/10], loss:0.2059\n",
            "epoch [10-32/10], loss:0.2203\n",
            "epoch [10-33/10], loss:0.2043\n",
            "epoch [10-34/10], loss:0.1861\n"
          ],
          "name": "stdout"
        }
      ]
    },
    {
      "cell_type": "markdown",
      "metadata": {
        "id": "7e0-yOgqPl9q",
        "colab_type": "text"
      },
      "source": [
        "## 測試"
      ]
    },
    {
      "cell_type": "code",
      "metadata": {
        "id": "HUOqD029IsEa",
        "colab_type": "code",
        "colab": {
          "base_uri": "https://localhost:8080/",
          "height": 153
        },
        "outputId": "6e195a78-c689-4f39-e6a6-23d3a767613a"
      },
      "source": [
        "dataiter = iter(train_loader)\n",
        "images, labels = dataiter.next()\n",
        "\n",
        "def imshow(img):\n",
        "    img = img / 2 + 0.5     # unnormalize\n",
        "    npimg = img.numpy()\n",
        "    plt.imshow(np.transpose(npimg, (1, 2, 0)))\n",
        "\n",
        "# print images\n",
        "imshow(torchvision.utils.make_grid(images[:4]))\n",
        "print('GroundTruth: ', ' '.join('%5s' % flowers_dataset.classes[labels[j]] for j in range(4)))"
      ],
      "execution_count": 9,
      "outputs": [
        {
          "output_type": "stream",
          "text": [
            "GroundTruth:  dandelion  rose daisy daisy\n"
          ],
          "name": "stdout"
        },
        {
          "output_type": "display_data",
          "data": {
            "image/png": "[encoded data removed]",
            "text/plain": [
              "<Figure size 432x288 with 1 Axes>"
            ]
          },
          "metadata": {
            "tags": []
          }
        }
      ]
    },
    {
      "cell_type": "code",
      "metadata": {
        "id": "3z8_Hx7kKOR5",
        "colab_type": "code",
        "colab": {
          "base_uri": "https://localhost:8080/",
          "height": 34
        },
        "outputId": "d854c9b6-fc3b-4633-d96c-0ec2f295d844"
      },
      "source": [
        "image = image.cuda()\n",
        "label = label.cuda()\n",
        "output = model(image)\n",
        "\n",
        "_, predicted = torch.max(output, 1)\n",
        "\n",
        "print('Predicted: ', ' '.join('%5s' % flowers_dataset.classes[predicted[j]]\n",
        "                              for j in range(4)))"
      ],
      "execution_count": 10,
      "outputs": [
        {
          "output_type": "stream",
          "text": [
            "Predicted:  tulip  rose daisy daisy\n"
          ],
          "name": "stdout"
        }
      ]
    },
    {
      "cell_type": "code",
      "metadata": {
        "id": "hBP644FkOkGx",
        "colab_type": "code",
        "colab": {
          "base_uri": "https://localhost:8080/",
          "height": 34
        },
        "outputId": "60bb5d41-da72-4f40-aa51-d5adad9634b9"
      },
      "source": [
        "correct = 0\n",
        "total = 0\n",
        "with torch.no_grad():\n",
        "    for data in train_loader:\n",
        "        images, labels = data\n",
        "        images = images.cuda()\n",
        "        labels = labels.cuda()\n",
        "        outputs = model(images)\n",
        "        _, predicted = torch.max(outputs.data, 1)\n",
        "        total += labels.size(0)\n",
        "        correct += (predicted == labels).sum().item()\n",
        "\n",
        "print('Accuracy of the network: %d %%' % (100 * correct / total))"
      ],
      "execution_count": 11,
      "outputs": [
        {
          "output_type": "stream",
          "text": [
            "Accuracy of the network: 92 %\n"
          ],
          "name": "stdout"
        }
      ]
    }
  ]
}