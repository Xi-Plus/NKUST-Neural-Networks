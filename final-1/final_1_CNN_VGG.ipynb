{
  "nbformat": 4,
  "nbformat_minor": 0,
  "metadata": {
    "colab": {
      "name": "final-1_CNN_VGG.ipynb",
      "provenance": []
    },
    "kernelspec": {
      "name": "python3",
      "display_name": "Python 3"
    },
    "accelerator": "GPU"
  },
  "cells": [
    {
      "cell_type": "markdown",
      "metadata": {
        "id": "0Bi5H_o73LiY",
        "colab_type": "text"
      },
      "source": [
        "## 判斷是否使用Google colab執行\n",
        "若是，則從Google Drive掛載資料，Google colab專用 否則應設定 ROOT_DIR"
      ]
    },
    {
      "cell_type": "code",
      "metadata": {
        "id": "nJ26j8Q-2NsW",
        "colab_type": "code",
        "colab": {
          "base_uri": "https://localhost:8080/",
          "height": 50
        },
        "outputId": "546478cc-258d-490b-df7c-f7119dc91fda"
      },
      "source": [
        "try:\n",
        "    from google.colab import drive\n",
        "    IN_COLAB = True\n",
        "except:\n",
        "    IN_COLAB = False\n",
        "\n",
        "print('IN_COLAB', IN_COLAB)\n",
        "\n",
        "if IN_COLAB:\n",
        "    drive.mount('/content/drive', force_remount=True)\n",
        "    ROOT_DIR = '/content/drive/Shared drives/Straight A students/類神經網路/flowers'\n",
        "else:\n",
        "    ROOT_DIR = 'flowers'"
      ],
      "execution_count": 1,
      "outputs": [
        {
          "output_type": "stream",
          "text": [
            "IN_COLAB True\n",
            "Mounted at /content/drive\n"
          ],
          "name": "stdout"
        }
      ]
    },
    {
      "cell_type": "markdown",
      "metadata": {
        "id": "MX9q_fkgx_pi",
        "colab_type": "text"
      },
      "source": [
        "## 常數設定"
      ]
    },
    {
      "cell_type": "code",
      "metadata": {
        "id": "cvpcZJOh4MpG",
        "colab_type": "code",
        "colab": {}
      },
      "source": [
        "import torch\n",
        "\n",
        "torch.manual_seed(1)\n",
        "n_epoch = 10\n",
        "batch_size = 128\n",
        "learning_rate = 0.0002\n",
        "USE_BUILT_IN_VGG = False # 是否使用內建VGG"
      ],
      "execution_count": 0,
      "outputs": []
    },
    {
      "cell_type": "markdown",
      "metadata": {
        "id": "1DbGNzPT3QY4",
        "colab_type": "text"
      },
      "source": [
        "## imports"
      ]
    },
    {
      "cell_type": "code",
      "metadata": {
        "id": "hrnLj17b26dN",
        "colab_type": "code",
        "colab": {}
      },
      "source": [
        "import torchvision\n",
        "from torch import nn\n",
        "from torch.autograd import Variable\n",
        "from torch.utils.data import DataLoader\n",
        "from torchvision import transforms\n",
        "import matplotlib.pyplot as plt\n",
        "import numpy as np"
      ],
      "execution_count": 0,
      "outputs": []
    },
    {
      "cell_type": "markdown",
      "metadata": {
        "id": "h9iMWHZu3Sj2",
        "colab_type": "text"
      },
      "source": [
        "## VGG"
      ]
    },
    {
      "cell_type": "code",
      "metadata": {
        "id": "JyiwsoVA20im",
        "colab_type": "code",
        "colab": {}
      },
      "source": [
        "cfg = {\n",
        "    'VGG11': [64, 'M', 128, 'M', 256, 256, 'M', 512, 512, 'M', 512, 512, 'M'],\n",
        "    'VGG13': [64, 64, 'M', 128, 128, 'M', 256, 256, 'M', 512, 512, 'M', 512, 512, 'M'],\n",
        "    'VGG16': [64, 64, 'M', 128, 128, 'M', 256, 256, 256, 'M', 512, 512, 512, 'M', 512, 512, 512, 'M'],\n",
        "    'VGG19': [64, 64, 'M', 128, 128, 'M', 256, 256, 256, 256, 'M', 512, 512, 512, 512, 'M', 512, 512, 512, 512, 'M']\n",
        "}"
      ],
      "execution_count": 0,
      "outputs": []
    },
    {
      "cell_type": "code",
      "metadata": {
        "id": "DBeVWB-T23Bl",
        "colab_type": "code",
        "colab": {}
      },
      "source": [
        "class VGG(torch.nn.Module):\n",
        "    def __init__(self, vgg_name):\n",
        "        super(VGG, self).__init__()\n",
        "        self.features = self._make_layers(cfg[vgg_name])\n",
        "        self.classifier = nn.Sequential(\n",
        "            nn.Linear(25088, 4096),\n",
        "            nn.ReLU(),\n",
        "            nn.Linear(4096, 4096),\n",
        "            nn.ReLU(),\n",
        "            nn.Linear(4096, 1000),\n",
        "        )\n",
        "    \n",
        "    def forward(self, x):\n",
        "        out = self.features(x)\n",
        "        out = out.view(out.size(0), -1)\n",
        "        out = self.classifier(out)\n",
        "        return out\n",
        "    \n",
        "    def _make_layers(self, cfg):\n",
        "        layers = []\n",
        "        in_channels = 3\n",
        "        for x in cfg:\n",
        "            if x == 'M':\n",
        "                layers += [torch.nn.MaxPool2d(kernel_size = 2, stride = 2)]\n",
        "            else:\n",
        "                layers += [torch.nn.Conv2d(in_channels, x, kernel_size = 3, padding = 1), torch.nn.BatchNorm2d(x), torch.nn.ReLU(inplace = True)]\n",
        "                in_channels = x\n",
        "        layers += [torch.nn.AvgPool2d(kernel_size = 1, stride = 1)]\n",
        "        return torch.nn.Sequential(*layers)"
      ],
      "execution_count": 0,
      "outputs": []
    },
    {
      "cell_type": "markdown",
      "metadata": {
        "id": "J3DzzPZi3pcX",
        "colab_type": "text"
      },
      "source": [
        "## Load data"
      ]
    },
    {
      "cell_type": "code",
      "metadata": {
        "id": "9RwnO-n43rg-",
        "colab_type": "code",
        "colab": {
          "base_uri": "https://localhost:8080/",
          "height": 151
        },
        "outputId": "caeb5478-4ccc-497d-cd54-016535371045"
      },
      "source": [
        "flowers_dataset = torchvision.datasets.ImageFolder(\n",
        "    ROOT_DIR,\n",
        "    transform=torchvision.transforms.Compose([\n",
        "        torchvision.transforms.Resize((224, 224)),\n",
        "        torchvision.transforms.ToTensor()\n",
        "    ])\n",
        ")\n",
        "print(flowers_dataset)"
      ],
      "execution_count": 6,
      "outputs": [
        {
          "output_type": "stream",
          "text": [
            "Dataset ImageFolder\n",
            "    Number of datapoints: 4323\n",
            "    Root location: /content/drive/Shared drives/Straight A students/類神經網路/flowers\n",
            "    StandardTransform\n",
            "Transform: Compose(\n",
            "               Resize(size=(224, 224), interpolation=PIL.Image.BILINEAR)\n",
            "               ToTensor()\n",
            "           )\n"
          ],
          "name": "stdout"
        }
      ]
    },
    {
      "cell_type": "code",
      "metadata": {
        "id": "Hl114bLb1oyN",
        "colab_type": "code",
        "colab": {
          "base_uri": "https://localhost:8080/",
          "height": 34
        },
        "outputId": "646cadbe-24cc-44e2-eeaf-b4737e45b62c"
      },
      "source": [
        "train_size = int(0.9 * len(flowers_dataset))\n",
        "test_size = len(flowers_dataset) - train_size\n",
        "print(len(flowers_dataset), train_size, test_size)\n",
        "train_dataset, test_dataset = torch.utils.data.random_split(flowers_dataset, [train_size, test_size])"
      ],
      "execution_count": 7,
      "outputs": [
        {
          "output_type": "stream",
          "text": [
            "4323 3890 433\n"
          ],
          "name": "stdout"
        }
      ]
    },
    {
      "cell_type": "code",
      "metadata": {
        "id": "TUqRy-n_17RD",
        "colab_type": "code",
        "colab": {}
      },
      "source": [
        "train_loader = DataLoader(dataset = train_dataset, batch_size = batch_size, shuffle = True)\n",
        "test_loader = DataLoader(dataset = test_dataset, batch_size = batch_size, shuffle = True)"
      ],
      "execution_count": 0,
      "outputs": []
    },
    {
      "cell_type": "markdown",
      "metadata": {
        "id": "XdwoqMTT3Vmw",
        "colab_type": "text"
      },
      "source": [
        "## 主程式"
      ]
    },
    {
      "cell_type": "code",
      "metadata": {
        "id": "pKw_jwBE245G",
        "colab_type": "code",
        "colab": {
          "base_uri": "https://localhost:8080/",
          "height": 722
        },
        "outputId": "ad3a6141-3a25-4c9e-92bf-886afc14171e"
      },
      "source": [
        "if USE_BUILT_IN_VGG:\n",
        "    model = torchvision.models.vgg11().cuda()\n",
        "else:\n",
        "    model = VGG('VGG11').cuda()\n",
        "\n",
        "print('USE_BUILT_IN_VGG', USE_BUILT_IN_VGG)\n",
        "print(model)"
      ],
      "execution_count": 9,
      "outputs": [
        {
          "output_type": "stream",
          "text": [
            "USE_BUILT_IN_VGG False\n",
            "VGG(\n",
            "  (features): Sequential(\n",
            "    (0): Conv2d(3, 64, kernel_size=(3, 3), stride=(1, 1), padding=(1, 1))\n",
            "    (1): BatchNorm2d(64, eps=1e-05, momentum=0.1, affine=True, track_running_stats=True)\n",
            "    (2): ReLU(inplace=True)\n",
            "    (3): MaxPool2d(kernel_size=2, stride=2, padding=0, dilation=1, ceil_mode=False)\n",
            "    (4): Conv2d(64, 128, kernel_size=(3, 3), stride=(1, 1), padding=(1, 1))\n",
            "    (5): BatchNorm2d(128, eps=1e-05, momentum=0.1, affine=True, track_running_stats=True)\n",
            "    (6): ReLU(inplace=True)\n",
            "    (7): MaxPool2d(kernel_size=2, stride=2, padding=0, dilation=1, ceil_mode=False)\n",
            "    (8): Conv2d(128, 256, kernel_size=(3, 3), stride=(1, 1), padding=(1, 1))\n",
            "    (9): BatchNorm2d(256, eps=1e-05, momentum=0.1, affine=True, track_running_stats=True)\n",
            "    (10): ReLU(inplace=True)\n",
            "    (11): Conv2d(256, 256, kernel_size=(3, 3), stride=(1, 1), padding=(1, 1))\n",
            "    (12): BatchNorm2d(256, eps=1e-05, momentum=0.1, affine=True, track_running_stats=True)\n",
            "    (13): ReLU(inplace=True)\n",
            "    (14): MaxPool2d(kernel_size=2, stride=2, padding=0, dilation=1, ceil_mode=False)\n",
            "    (15): Conv2d(256, 512, kernel_size=(3, 3), stride=(1, 1), padding=(1, 1))\n",
            "    (16): BatchNorm2d(512, eps=1e-05, momentum=0.1, affine=True, track_running_stats=True)\n",
            "    (17): ReLU(inplace=True)\n",
            "    (18): Conv2d(512, 512, kernel_size=(3, 3), stride=(1, 1), padding=(1, 1))\n",
            "    (19): BatchNorm2d(512, eps=1e-05, momentum=0.1, affine=True, track_running_stats=True)\n",
            "    (20): ReLU(inplace=True)\n",
            "    (21): MaxPool2d(kernel_size=2, stride=2, padding=0, dilation=1, ceil_mode=False)\n",
            "    (22): Conv2d(512, 512, kernel_size=(3, 3), stride=(1, 1), padding=(1, 1))\n",
            "    (23): BatchNorm2d(512, eps=1e-05, momentum=0.1, affine=True, track_running_stats=True)\n",
            "    (24): ReLU(inplace=True)\n",
            "    (25): Conv2d(512, 512, kernel_size=(3, 3), stride=(1, 1), padding=(1, 1))\n",
            "    (26): BatchNorm2d(512, eps=1e-05, momentum=0.1, affine=True, track_running_stats=True)\n",
            "    (27): ReLU(inplace=True)\n",
            "    (28): MaxPool2d(kernel_size=2, stride=2, padding=0, dilation=1, ceil_mode=False)\n",
            "    (29): AvgPool2d(kernel_size=1, stride=1, padding=0)\n",
            "  )\n",
            "  (classifier): Sequential(\n",
            "    (0): Linear(in_features=25088, out_features=4096, bias=True)\n",
            "    (1): ReLU()\n",
            "    (2): Linear(in_features=4096, out_features=4096, bias=True)\n",
            "    (3): ReLU()\n",
            "    (4): Linear(in_features=4096, out_features=1000, bias=True)\n",
            "  )\n",
            ")\n"
          ],
          "name": "stdout"
        }
      ]
    },
    {
      "cell_type": "code",
      "metadata": {
        "id": "eSqC2Yly7zDH",
        "colab_type": "code",
        "colab": {
          "base_uri": "https://localhost:8080/",
          "height": 1000
        },
        "outputId": "94d346ae-2f46-402f-c155-be071b96c106"
      },
      "source": [
        "loss_func = nn.CrossEntropyLoss()\n",
        "optimizer = torch.optim.Adam(model.classifier.parameters(), lr = learning_rate)\n",
        "\n",
        "for I in range(n_epoch):\n",
        "    J = 0\n",
        "    for image, label in train_loader:\n",
        "        J += 1\n",
        "        image = Variable(image).cuda()\n",
        "        label = Variable(label).cuda()\n",
        "        # print(image.shape, label.shape)\n",
        "        optimizer.zero_grad()\n",
        "        output = model(image)\n",
        "        loss = loss_func(output, label)\n",
        "        loss.backward()\n",
        "        optimizer.step()\n",
        "\n",
        "        print('epoch [{}-{}/{}], loss:{:.4f}'.format(I + 1, J, n_epoch, loss.data.item()))"
      ],
      "execution_count": 10,
      "outputs": [
        {
          "output_type": "stream",
          "text": [
            "epoch [1-1/10], loss:6.9487\n",
            "epoch [1-2/10], loss:5.6942\n",
            "epoch [1-3/10], loss:10.2349\n",
            "epoch [1-4/10], loss:12.8354\n",
            "epoch [1-5/10], loss:14.0578\n",
            "epoch [1-6/10], loss:14.2760\n",
            "epoch [1-7/10], loss:10.2893\n",
            "epoch [1-8/10], loss:3.5045\n",
            "epoch [1-9/10], loss:2.5991\n",
            "epoch [1-10/10], loss:2.7410\n",
            "epoch [1-11/10], loss:2.8410\n",
            "epoch [1-12/10], loss:2.4424\n",
            "epoch [1-13/10], loss:2.3974\n",
            "epoch [1-14/10], loss:1.8966\n",
            "epoch [1-15/10], loss:1.9040\n",
            "epoch [1-16/10], loss:1.6457\n",
            "epoch [1-17/10], loss:1.5604\n",
            "epoch [1-18/10], loss:1.7020\n",
            "epoch [1-19/10], loss:1.5714\n",
            "epoch [1-20/10], loss:1.4921\n",
            "epoch [1-21/10], loss:1.4507\n",
            "epoch [1-22/10], loss:1.4649\n",
            "epoch [1-23/10], loss:1.4871\n",
            "epoch [1-24/10], loss:1.5112\n",
            "epoch [1-25/10], loss:1.3394\n",
            "epoch [1-26/10], loss:1.3536\n",
            "epoch [1-27/10], loss:1.4998\n",
            "epoch [1-28/10], loss:1.4864\n",
            "epoch [1-29/10], loss:1.3154\n",
            "epoch [1-30/10], loss:1.3388\n",
            "epoch [1-31/10], loss:1.3155\n",
            "epoch [2-1/10], loss:1.3589\n",
            "epoch [2-2/10], loss:1.2996\n",
            "epoch [2-3/10], loss:1.2484\n",
            "epoch [2-4/10], loss:1.2200\n",
            "epoch [2-5/10], loss:1.2596\n",
            "epoch [2-6/10], loss:1.2574\n",
            "epoch [2-7/10], loss:1.1806\n",
            "epoch [2-8/10], loss:1.3051\n",
            "epoch [2-9/10], loss:1.2682\n",
            "epoch [2-10/10], loss:1.3579\n",
            "epoch [2-11/10], loss:1.2361\n",
            "epoch [2-12/10], loss:1.2975\n",
            "epoch [2-13/10], loss:1.2242\n",
            "epoch [2-14/10], loss:1.3088\n",
            "epoch [2-15/10], loss:1.2296\n",
            "epoch [2-16/10], loss:1.0428\n",
            "epoch [2-17/10], loss:1.1230\n",
            "epoch [2-18/10], loss:1.3629\n",
            "epoch [2-19/10], loss:1.1296\n",
            "epoch [2-20/10], loss:1.3128\n",
            "epoch [2-21/10], loss:1.2728\n",
            "epoch [2-22/10], loss:1.2945\n",
            "epoch [2-23/10], loss:1.0755\n",
            "epoch [2-24/10], loss:1.1719\n",
            "epoch [2-25/10], loss:1.0703\n",
            "epoch [2-26/10], loss:1.1860\n",
            "epoch [2-27/10], loss:1.1249\n",
            "epoch [2-28/10], loss:1.0841\n",
            "epoch [2-29/10], loss:1.0446\n",
            "epoch [2-30/10], loss:1.3771\n",
            "epoch [2-31/10], loss:1.4330\n",
            "epoch [3-1/10], loss:1.0706\n",
            "epoch [3-2/10], loss:1.3109\n",
            "epoch [3-3/10], loss:1.3638\n",
            "epoch [3-4/10], loss:1.1085\n",
            "epoch [3-5/10], loss:1.0847\n",
            "epoch [3-6/10], loss:1.1982\n",
            "epoch [3-7/10], loss:0.9993\n",
            "epoch [3-8/10], loss:1.0433\n",
            "epoch [3-9/10], loss:1.1633\n",
            "epoch [3-10/10], loss:1.1047\n",
            "epoch [3-11/10], loss:1.1081\n",
            "epoch [3-12/10], loss:0.9977\n",
            "epoch [3-13/10], loss:1.0770\n",
            "epoch [3-14/10], loss:0.9929\n",
            "epoch [3-15/10], loss:1.0422\n",
            "epoch [3-16/10], loss:0.9882\n",
            "epoch [3-17/10], loss:1.0719\n",
            "epoch [3-18/10], loss:0.9376\n",
            "epoch [3-19/10], loss:1.0550\n",
            "epoch [3-20/10], loss:1.0541\n",
            "epoch [3-21/10], loss:0.9479\n",
            "epoch [3-22/10], loss:0.9756\n",
            "epoch [3-23/10], loss:0.9752\n",
            "epoch [3-24/10], loss:0.9371\n",
            "epoch [3-25/10], loss:0.9244\n",
            "epoch [3-26/10], loss:1.2227\n",
            "epoch [3-27/10], loss:1.0020\n",
            "epoch [3-28/10], loss:0.9405\n",
            "epoch [3-29/10], loss:0.9480\n",
            "epoch [3-30/10], loss:0.9751\n",
            "epoch [3-31/10], loss:0.9451\n",
            "epoch [4-1/10], loss:0.9212\n",
            "epoch [4-2/10], loss:0.8996\n",
            "epoch [4-3/10], loss:1.0017\n",
            "epoch [4-4/10], loss:1.0013\n",
            "epoch [4-5/10], loss:0.7885\n",
            "epoch [4-6/10], loss:0.9571\n",
            "epoch [4-7/10], loss:0.9193\n",
            "epoch [4-8/10], loss:0.9192\n",
            "epoch [4-9/10], loss:0.8376\n",
            "epoch [4-10/10], loss:0.8699\n",
            "epoch [4-11/10], loss:0.8916\n",
            "epoch [4-12/10], loss:0.9063\n",
            "epoch [4-13/10], loss:0.9804\n",
            "epoch [4-14/10], loss:0.8420\n",
            "epoch [4-15/10], loss:0.9233\n",
            "epoch [4-16/10], loss:0.9091\n",
            "epoch [4-17/10], loss:0.8514\n",
            "epoch [4-18/10], loss:0.9681\n",
            "epoch [4-19/10], loss:0.7595\n",
            "epoch [4-20/10], loss:0.7519\n",
            "epoch [4-21/10], loss:1.0011\n",
            "epoch [4-22/10], loss:0.9001\n",
            "epoch [4-23/10], loss:0.7941\n",
            "epoch [4-24/10], loss:1.0446\n",
            "epoch [4-25/10], loss:1.0233\n",
            "epoch [4-26/10], loss:0.7731\n",
            "epoch [4-27/10], loss:1.1317\n",
            "epoch [4-28/10], loss:0.8584\n",
            "epoch [4-29/10], loss:0.9613\n",
            "epoch [4-30/10], loss:1.1153\n",
            "epoch [4-31/10], loss:1.1851\n",
            "epoch [5-1/10], loss:0.8778\n",
            "epoch [5-2/10], loss:0.8496\n",
            "epoch [5-3/10], loss:0.9423\n",
            "epoch [5-4/10], loss:0.7638\n",
            "epoch [5-5/10], loss:1.0019\n",
            "epoch [5-6/10], loss:0.7489\n",
            "epoch [5-7/10], loss:0.8978\n",
            "epoch [5-8/10], loss:0.8022\n",
            "epoch [5-9/10], loss:0.9794\n",
            "epoch [5-10/10], loss:0.9508\n",
            "epoch [5-11/10], loss:0.8343\n",
            "epoch [5-12/10], loss:0.8942\n",
            "epoch [5-13/10], loss:0.8964\n",
            "epoch [5-14/10], loss:0.8434\n",
            "epoch [5-15/10], loss:0.9151\n",
            "epoch [5-16/10], loss:0.7747\n",
            "epoch [5-17/10], loss:0.7730\n",
            "epoch [5-18/10], loss:0.9050\n",
            "epoch [5-19/10], loss:0.8110\n",
            "epoch [5-20/10], loss:0.7994\n",
            "epoch [5-21/10], loss:0.9729\n",
            "epoch [5-22/10], loss:0.7367\n",
            "epoch [5-23/10], loss:0.7663\n",
            "epoch [5-24/10], loss:0.8991\n",
            "epoch [5-25/10], loss:0.7246\n",
            "epoch [5-26/10], loss:1.0870\n",
            "epoch [5-27/10], loss:0.8910\n",
            "epoch [5-28/10], loss:0.7860\n",
            "epoch [5-29/10], loss:0.8747\n",
            "epoch [5-30/10], loss:0.8734\n",
            "epoch [5-31/10], loss:0.9676\n",
            "epoch [6-1/10], loss:0.7094\n",
            "epoch [6-2/10], loss:0.5703\n",
            "epoch [6-3/10], loss:0.8906\n",
            "epoch [6-4/10], loss:0.6860\n",
            "epoch [6-5/10], loss:0.8036\n",
            "epoch [6-6/10], loss:0.7618\n",
            "epoch [6-7/10], loss:0.7788\n",
            "epoch [6-8/10], loss:0.5946\n",
            "epoch [6-9/10], loss:0.7693\n",
            "epoch [6-10/10], loss:0.9002\n",
            "epoch [6-11/10], loss:0.6950\n",
            "epoch [6-12/10], loss:0.8158\n",
            "epoch [6-13/10], loss:0.9525\n",
            "epoch [6-14/10], loss:0.7690\n",
            "epoch [6-15/10], loss:0.7198\n",
            "epoch [6-16/10], loss:0.8233\n",
            "epoch [6-17/10], loss:0.8327\n",
            "epoch [6-18/10], loss:0.7029\n",
            "epoch [6-19/10], loss:0.8109\n",
            "epoch [6-20/10], loss:0.7574\n",
            "epoch [6-21/10], loss:0.7808\n",
            "epoch [6-22/10], loss:0.8532\n",
            "epoch [6-23/10], loss:0.7600\n",
            "epoch [6-24/10], loss:0.7168\n",
            "epoch [6-25/10], loss:0.7544\n",
            "epoch [6-26/10], loss:0.7339\n",
            "epoch [6-27/10], loss:0.8470\n",
            "epoch [6-28/10], loss:0.7594\n",
            "epoch [6-29/10], loss:0.9876\n",
            "epoch [6-30/10], loss:0.7546\n",
            "epoch [6-31/10], loss:0.8149\n",
            "epoch [7-1/10], loss:0.6458\n",
            "epoch [7-2/10], loss:0.7851\n",
            "epoch [7-3/10], loss:0.7895\n",
            "epoch [7-4/10], loss:0.5707\n",
            "epoch [7-5/10], loss:0.6456\n",
            "epoch [7-6/10], loss:0.6048\n",
            "epoch [7-7/10], loss:0.6500\n",
            "epoch [7-8/10], loss:0.6978\n",
            "epoch [7-9/10], loss:0.6376\n",
            "epoch [7-10/10], loss:0.6516\n",
            "epoch [7-11/10], loss:0.5998\n",
            "epoch [7-12/10], loss:0.6933\n",
            "epoch [7-13/10], loss:0.5452\n",
            "epoch [7-14/10], loss:0.6240\n",
            "epoch [7-15/10], loss:0.6891\n",
            "epoch [7-16/10], loss:0.5910\n",
            "epoch [7-17/10], loss:0.5693\n",
            "epoch [7-18/10], loss:0.7114\n",
            "epoch [7-19/10], loss:0.5922\n",
            "epoch [7-20/10], loss:0.7105\n",
            "epoch [7-21/10], loss:0.6480\n",
            "epoch [7-22/10], loss:0.4906\n",
            "epoch [7-23/10], loss:0.6781\n",
            "epoch [7-24/10], loss:0.6954\n",
            "epoch [7-25/10], loss:0.6446\n",
            "epoch [7-26/10], loss:0.6890\n",
            "epoch [7-27/10], loss:0.5400\n",
            "epoch [7-28/10], loss:0.6084\n",
            "epoch [7-29/10], loss:0.8348\n",
            "epoch [7-30/10], loss:0.4465\n",
            "epoch [7-31/10], loss:0.7084\n",
            "epoch [8-1/10], loss:0.5586\n",
            "epoch [8-2/10], loss:0.6169\n",
            "epoch [8-3/10], loss:0.7128\n",
            "epoch [8-4/10], loss:0.5193\n",
            "epoch [8-5/10], loss:0.4719\n",
            "epoch [8-6/10], loss:0.5887\n",
            "epoch [8-7/10], loss:0.4835\n",
            "epoch [8-8/10], loss:0.6785\n",
            "epoch [8-9/10], loss:0.5642\n",
            "epoch [8-10/10], loss:0.6001\n",
            "epoch [8-11/10], loss:0.6702\n",
            "epoch [8-12/10], loss:0.7345\n",
            "epoch [8-13/10], loss:0.4445\n",
            "epoch [8-14/10], loss:0.7756\n",
            "epoch [8-15/10], loss:0.5560\n",
            "epoch [8-16/10], loss:0.5246\n",
            "epoch [8-17/10], loss:0.7001\n",
            "epoch [8-18/10], loss:0.4944\n",
            "epoch [8-19/10], loss:0.5408\n",
            "epoch [8-20/10], loss:0.6497\n",
            "epoch [8-21/10], loss:0.4684\n",
            "epoch [8-22/10], loss:0.4758\n",
            "epoch [8-23/10], loss:0.5624\n",
            "epoch [8-24/10], loss:0.5056\n",
            "epoch [8-25/10], loss:0.5072\n",
            "epoch [8-26/10], loss:0.5180\n",
            "epoch [8-27/10], loss:0.4392\n",
            "epoch [8-28/10], loss:0.3579\n",
            "epoch [8-29/10], loss:0.5721\n",
            "epoch [8-30/10], loss:0.4316\n",
            "epoch [8-31/10], loss:0.5388\n",
            "epoch [9-1/10], loss:0.3937\n",
            "epoch [9-2/10], loss:0.3888\n",
            "epoch [9-3/10], loss:0.3866\n",
            "epoch [9-4/10], loss:0.3537\n",
            "epoch [9-5/10], loss:0.4418\n",
            "epoch [9-6/10], loss:0.3963\n",
            "epoch [9-7/10], loss:0.5173\n",
            "epoch [9-8/10], loss:0.4550\n",
            "epoch [9-9/10], loss:0.4600\n",
            "epoch [9-10/10], loss:0.4685\n",
            "epoch [9-11/10], loss:0.5077\n",
            "epoch [9-12/10], loss:0.4555\n",
            "epoch [9-13/10], loss:0.3229\n",
            "epoch [9-14/10], loss:0.4312\n",
            "epoch [9-15/10], loss:0.3852\n",
            "epoch [9-16/10], loss:0.4431\n",
            "epoch [9-17/10], loss:0.3714\n",
            "epoch [9-18/10], loss:0.5173\n",
            "epoch [9-19/10], loss:0.4116\n",
            "epoch [9-20/10], loss:0.3826\n",
            "epoch [9-21/10], loss:0.5750\n",
            "epoch [9-22/10], loss:0.3920\n",
            "epoch [9-23/10], loss:0.6084\n",
            "epoch [9-24/10], loss:0.6000\n",
            "epoch [9-25/10], loss:0.6580\n",
            "epoch [9-26/10], loss:0.5988\n",
            "epoch [9-27/10], loss:0.4538\n",
            "epoch [9-28/10], loss:0.3970\n",
            "epoch [9-29/10], loss:0.4420\n",
            "epoch [9-30/10], loss:0.4322\n",
            "epoch [9-31/10], loss:0.3874\n",
            "epoch [10-1/10], loss:0.3847\n",
            "epoch [10-2/10], loss:0.4959\n",
            "epoch [10-3/10], loss:0.3706\n",
            "epoch [10-4/10], loss:0.3897\n",
            "epoch [10-5/10], loss:0.4215\n",
            "epoch [10-6/10], loss:0.2878\n",
            "epoch [10-7/10], loss:0.3696\n",
            "epoch [10-8/10], loss:0.3663\n",
            "epoch [10-9/10], loss:0.2418\n",
            "epoch [10-10/10], loss:0.3133\n",
            "epoch [10-11/10], loss:0.3271\n",
            "epoch [10-12/10], loss:0.2978\n",
            "epoch [10-13/10], loss:0.2753\n",
            "epoch [10-14/10], loss:0.4378\n",
            "epoch [10-15/10], loss:0.4152\n",
            "epoch [10-16/10], loss:0.3044\n",
            "epoch [10-17/10], loss:0.3812\n",
            "epoch [10-18/10], loss:0.3001\n",
            "epoch [10-19/10], loss:0.2409\n",
            "epoch [10-20/10], loss:0.4750\n",
            "epoch [10-21/10], loss:0.2879\n",
            "epoch [10-22/10], loss:0.2804\n",
            "epoch [10-23/10], loss:0.4683\n",
            "epoch [10-24/10], loss:0.3001\n",
            "epoch [10-25/10], loss:0.3691\n",
            "epoch [10-26/10], loss:0.4917\n",
            "epoch [10-27/10], loss:0.2610\n",
            "epoch [10-28/10], loss:0.4798\n",
            "epoch [10-29/10], loss:0.2896\n",
            "epoch [10-30/10], loss:0.2811\n",
            "epoch [10-31/10], loss:0.3914\n"
          ],
          "name": "stdout"
        }
      ]
    },
    {
      "cell_type": "markdown",
      "metadata": {
        "id": "7e0-yOgqPl9q",
        "colab_type": "text"
      },
      "source": [
        "## 測試"
      ]
    },
    {
      "cell_type": "code",
      "metadata": {
        "id": "HUOqD029IsEa",
        "colab_type": "code",
        "colab": {
          "base_uri": "https://localhost:8080/",
          "height": 153
        },
        "outputId": "3fb0e950-3aaf-40e5-9f0f-d75b4e621662"
      },
      "source": [
        "dataiter = iter(test_loader)\n",
        "images, labels = dataiter.next()\n",
        "\n",
        "def imshow(img):\n",
        "    img = img / 2 + 0.5     # unnormalize\n",
        "    npimg = img.numpy()\n",
        "    plt.imshow(np.transpose(npimg, (1, 2, 0)))\n",
        "\n",
        "# print images\n",
        "imshow(torchvision.utils.make_grid(images[:4]))\n",
        "print('GroundTruth: ', ' '.join('%5s' % flowers_dataset.classes[labels[j]] for j in range(4)))"
      ],
      "execution_count": 11,
      "outputs": [
        {
          "output_type": "stream",
          "text": [
            "GroundTruth:   rose dandelion dandelion sunflower\n"
          ],
          "name": "stdout"
        },
        {
          "output_type": "display_data",
          "data": {
            "image/png": "[encoded data removed]",
            "text/plain": [
              "<Figure size 432x288 with 1 Axes>"
            ]
          },
          "metadata": {
            "tags": []
          }
        }
      ]
    },
    {
      "cell_type": "code",
      "metadata": {
        "id": "3z8_Hx7kKOR5",
        "colab_type": "code",
        "colab": {
          "base_uri": "https://localhost:8080/",
          "height": 34
        },
        "outputId": "0d76ee8d-0730-4a0d-a500-84c70d8fd10a"
      },
      "source": [
        "image = image.cuda()\n",
        "label = label.cuda()\n",
        "output = model(image)\n",
        "\n",
        "_, predicted = torch.max(output, 1)\n",
        "\n",
        "print('Predicted: ', ' '.join('%5s' % flowers_dataset.classes[predicted[j]]\n",
        "                              for j in range(4)))"
      ],
      "execution_count": 12,
      "outputs": [
        {
          "output_type": "stream",
          "text": [
            "Predicted:  sunflower dandelion daisy sunflower\n"
          ],
          "name": "stdout"
        }
      ]
    },
    {
      "cell_type": "code",
      "metadata": {
        "id": "hBP644FkOkGx",
        "colab_type": "code",
        "colab": {
          "base_uri": "https://localhost:8080/",
          "height": 50
        },
        "outputId": "58249c43-9331-4130-93b5-30369bcd959e"
      },
      "source": [
        "correct = 0\n",
        "total = 0\n",
        "with torch.no_grad():\n",
        "    for data in train_loader:\n",
        "        images, labels = data\n",
        "        images = images.cuda()\n",
        "        labels = labels.cuda()\n",
        "        outputs = model(images)\n",
        "        _, predicted = torch.max(outputs.data, 1)\n",
        "        total += labels.size(0)\n",
        "        correct += (predicted == labels).sum().item()\n",
        "\n",
        "print('Accuracy of the network for training data: %d %%' % (100 * correct / total))\n",
        "\n",
        "correct = 0\n",
        "total = 0\n",
        "with torch.no_grad():\n",
        "    for data in test_loader:\n",
        "        images, labels = data\n",
        "        images = images.cuda()\n",
        "        labels = labels.cuda()\n",
        "        outputs = model(images)\n",
        "        _, predicted = torch.max(outputs.data, 1)\n",
        "        total += labels.size(0)\n",
        "        correct += (predicted == labels).sum().item()\n",
        "\n",
        "print('Accuracy of the network for testing data: %d %%' % (100 * correct / total))"
      ],
      "execution_count": 13,
      "outputs": [
        {
          "output_type": "stream",
          "text": [
            "Accuracy of the network for training data: 94 %\n",
            "Accuracy of the network for testing data: 63 %\n"
          ],
          "name": "stdout"
        }
      ]
    }
  ]
}