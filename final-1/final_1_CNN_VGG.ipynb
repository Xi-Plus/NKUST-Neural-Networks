{
  "nbformat": 4,
  "nbformat_minor": 0,
  "metadata": {
    "colab": {
      "name": "final-1_CNN_VGG.ipynb",
      "provenance": []
    },
    "kernelspec": {
      "name": "python3",
      "display_name": "Python 3"
    },
    "accelerator": "GPU"
  },
  "cells": [
    {
      "cell_type": "markdown",
      "metadata": {
        "id": "0Bi5H_o73LiY",
        "colab_type": "text"
      },
      "source": [
        "## 判斷是否使用Google colab執行\n",
        "若是，則從Google Drive掛載資料，Google colab專用 否則應設定 ROOT_DIR"
      ]
    },
    {
      "cell_type": "code",
      "metadata": {
        "id": "nJ26j8Q-2NsW",
        "colab_type": "code",
        "colab": {
          "base_uri": "https://localhost:8080/",
          "height": 50
        },
        "outputId": "f3277e1e-e8d0-49cf-c25e-863cfa7b9192"
      },
      "source": [
        "try:\n",
        "    from google.colab import drive\n",
        "    IN_COLAB = True\n",
        "except:\n",
        "    IN_COLAB = False\n",
        "\n",
        "print('IN_COLAB', IN_COLAB)\n",
        "\n",
        "if IN_COLAB:\n",
        "    drive.mount('/content/drive', force_remount=True)\n",
        "    ROOT_DIR = '/content/drive/Shared drives/Straight A students/類神經網路/flowers'\n",
        "else:\n",
        "    ROOT_DIR = 'flowers'"
      ],
      "execution_count": 1,
      "outputs": [
        {
          "output_type": "stream",
          "text": [
            "IN_COLAB True\n",
            "Mounted at /content/drive\n"
          ],
          "name": "stdout"
        }
      ]
    },
    {
      "cell_type": "code",
      "metadata": {
        "id": "cvpcZJOh4MpG",
        "colab_type": "code",
        "colab": {}
      },
      "source": [
        "import torch\n",
        "\n",
        "torch.manual_seed(1)\n",
        "n_epoch = 10\n",
        "batch_size = 128\n",
        "learning_rate = 0.0002"
      ],
      "execution_count": 0,
      "outputs": []
    },
    {
      "cell_type": "markdown",
      "metadata": {
        "id": "1DbGNzPT3QY4",
        "colab_type": "text"
      },
      "source": [
        "## imports"
      ]
    },
    {
      "cell_type": "code",
      "metadata": {
        "id": "hrnLj17b26dN",
        "colab_type": "code",
        "colab": {}
      },
      "source": [
        "import torchvision\n",
        "from torch import nn\n",
        "from torch.autograd import Variable\n",
        "from torch.utils.data import DataLoader\n",
        "from torchvision import transforms\n",
        "import matplotlib.pyplot as plt\n",
        "import numpy as np"
      ],
      "execution_count": 0,
      "outputs": []
    },
    {
      "cell_type": "markdown",
      "metadata": {
        "id": "h9iMWHZu3Sj2",
        "colab_type": "text"
      },
      "source": [
        "## VGG"
      ]
    },
    {
      "cell_type": "code",
      "metadata": {
        "id": "JyiwsoVA20im",
        "colab_type": "code",
        "colab": {}
      },
      "source": [
        "cfg = {\n",
        "    'VGG11': [64, 'M', 128, 'M', 256, 256, 'M', 512, 512, 'M', 512, 512, 'M'],\n",
        "    'VGG13': [64, 64, 'M', 128, 128, 'M', 256, 256, 'M', 512, 512, 'M', 512, 512, 'M'],\n",
        "    'VGG16': [64, 64, 'M', 128, 128, 'M', 256, 256, 256, 'M', 512, 512, 512, 'M', 512, 512, 512, 'M'],\n",
        "    'VGG19': [64, 64, 'M', 128, 128, 'M', 256, 256, 256, 256, 'M', 512, 512, 512, 512, 'M', 512, 512, 512, 512, 'M']\n",
        "}"
      ],
      "execution_count": 0,
      "outputs": []
    },
    {
      "cell_type": "code",
      "metadata": {
        "id": "DBeVWB-T23Bl",
        "colab_type": "code",
        "colab": {}
      },
      "source": [
        "class VGG(torch.nn.Module):\n",
        "    def __init__(self, vgg_name):\n",
        "        super(VGG, self).__init__()\n",
        "        self.features = self._make_layers(cfg[vgg_name])\n",
        "        self.classifier = nn.Sequential(\n",
        "            nn.Linear(25088, 4096),\n",
        "            nn.ReLU(),\n",
        "            nn.Linear(4096, 4096),\n",
        "            nn.ReLU(),\n",
        "            nn.Linear(4096, 1000),\n",
        "        )\n",
        "    \n",
        "    def forward(self, x):\n",
        "        out = self.features(x)\n",
        "        out = out.view(out.size(0), -1)\n",
        "        out = self.classifier(out)\n",
        "        return out\n",
        "    \n",
        "    def _make_layers(self, cfg):\n",
        "        layers = []\n",
        "        in_channels = 3\n",
        "        for x in cfg:\n",
        "            if x == 'M':\n",
        "                layers += [torch.nn.MaxPool2d(kernel_size = 2, stride = 2)]\n",
        "            else:\n",
        "                layers += [torch.nn.Conv2d(in_channels, x, kernel_size = 3, padding = 1), torch.nn.BatchNorm2d(x), torch.nn.ReLU(inplace = True)]\n",
        "                in_channels = x\n",
        "        layers += [torch.nn.AvgPool2d(kernel_size = 1, stride = 1)]\n",
        "        return torch.nn.Sequential(*layers)"
      ],
      "execution_count": 0,
      "outputs": []
    },
    {
      "cell_type": "markdown",
      "metadata": {
        "id": "J3DzzPZi3pcX",
        "colab_type": "text"
      },
      "source": [
        "## Load data"
      ]
    },
    {
      "cell_type": "code",
      "metadata": {
        "id": "9RwnO-n43rg-",
        "colab_type": "code",
        "colab": {
          "base_uri": "https://localhost:8080/",
          "height": 151
        },
        "outputId": "3d5a003f-c2ec-4aca-bad4-24657b74bd16"
      },
      "source": [
        "flowers_dataset = torchvision.datasets.ImageFolder(\n",
        "    ROOT_DIR,\n",
        "    transform=torchvision.transforms.Compose([\n",
        "        torchvision.transforms.CenterCrop(224),\n",
        "        torchvision.transforms.ToTensor()\n",
        "    ])\n",
        ")\n",
        "print(flowers_dataset)\n",
        "train_loader = DataLoader(dataset = flowers_dataset, batch_size = batch_size, shuffle = True)"
      ],
      "execution_count": 6,
      "outputs": [
        {
          "output_type": "stream",
          "text": [
            "Dataset ImageFolder\n",
            "    Number of datapoints: 4323\n",
            "    Root location: /content/drive/Shared drives/Straight A students/類神經網路/flowers\n",
            "    StandardTransform\n",
            "Transform: Compose(\n",
            "               CenterCrop(size=(224, 224))\n",
            "               ToTensor()\n",
            "           )\n"
          ],
          "name": "stdout"
        }
      ]
    },
    {
      "cell_type": "markdown",
      "metadata": {
        "id": "XdwoqMTT3Vmw",
        "colab_type": "text"
      },
      "source": [
        "## 主程式"
      ]
    },
    {
      "cell_type": "code",
      "metadata": {
        "id": "pKw_jwBE245G",
        "colab_type": "code",
        "colab": {
          "base_uri": "https://localhost:8080/",
          "height": 706
        },
        "outputId": "67e3e4e5-7450-4f86-fddd-098e6bca8bfc"
      },
      "source": [
        "model = VGG('VGG11').cuda()\n",
        "print(model)"
      ],
      "execution_count": 7,
      "outputs": [
        {
          "output_type": "stream",
          "text": [
            "VGG(\n",
            "  (features): Sequential(\n",
            "    (0): Conv2d(3, 64, kernel_size=(3, 3), stride=(1, 1), padding=(1, 1))\n",
            "    (1): BatchNorm2d(64, eps=1e-05, momentum=0.1, affine=True, track_running_stats=True)\n",
            "    (2): ReLU(inplace=True)\n",
            "    (3): MaxPool2d(kernel_size=2, stride=2, padding=0, dilation=1, ceil_mode=False)\n",
            "    (4): Conv2d(64, 128, kernel_size=(3, 3), stride=(1, 1), padding=(1, 1))\n",
            "    (5): BatchNorm2d(128, eps=1e-05, momentum=0.1, affine=True, track_running_stats=True)\n",
            "    (6): ReLU(inplace=True)\n",
            "    (7): MaxPool2d(kernel_size=2, stride=2, padding=0, dilation=1, ceil_mode=False)\n",
            "    (8): Conv2d(128, 256, kernel_size=(3, 3), stride=(1, 1), padding=(1, 1))\n",
            "    (9): BatchNorm2d(256, eps=1e-05, momentum=0.1, affine=True, track_running_stats=True)\n",
            "    (10): ReLU(inplace=True)\n",
            "    (11): Conv2d(256, 256, kernel_size=(3, 3), stride=(1, 1), padding=(1, 1))\n",
            "    (12): BatchNorm2d(256, eps=1e-05, momentum=0.1, affine=True, track_running_stats=True)\n",
            "    (13): ReLU(inplace=True)\n",
            "    (14): MaxPool2d(kernel_size=2, stride=2, padding=0, dilation=1, ceil_mode=False)\n",
            "    (15): Conv2d(256, 512, kernel_size=(3, 3), stride=(1, 1), padding=(1, 1))\n",
            "    (16): BatchNorm2d(512, eps=1e-05, momentum=0.1, affine=True, track_running_stats=True)\n",
            "    (17): ReLU(inplace=True)\n",
            "    (18): Conv2d(512, 512, kernel_size=(3, 3), stride=(1, 1), padding=(1, 1))\n",
            "    (19): BatchNorm2d(512, eps=1e-05, momentum=0.1, affine=True, track_running_stats=True)\n",
            "    (20): ReLU(inplace=True)\n",
            "    (21): MaxPool2d(kernel_size=2, stride=2, padding=0, dilation=1, ceil_mode=False)\n",
            "    (22): Conv2d(512, 512, kernel_size=(3, 3), stride=(1, 1), padding=(1, 1))\n",
            "    (23): BatchNorm2d(512, eps=1e-05, momentum=0.1, affine=True, track_running_stats=True)\n",
            "    (24): ReLU(inplace=True)\n",
            "    (25): Conv2d(512, 512, kernel_size=(3, 3), stride=(1, 1), padding=(1, 1))\n",
            "    (26): BatchNorm2d(512, eps=1e-05, momentum=0.1, affine=True, track_running_stats=True)\n",
            "    (27): ReLU(inplace=True)\n",
            "    (28): MaxPool2d(kernel_size=2, stride=2, padding=0, dilation=1, ceil_mode=False)\n",
            "    (29): AvgPool2d(kernel_size=1, stride=1, padding=0)\n",
            "  )\n",
            "  (classifier): Sequential(\n",
            "    (0): Linear(in_features=25088, out_features=4096, bias=True)\n",
            "    (1): ReLU()\n",
            "    (2): Linear(in_features=4096, out_features=4096, bias=True)\n",
            "    (3): ReLU()\n",
            "    (4): Linear(in_features=4096, out_features=1000, bias=True)\n",
            "  )\n",
            ")\n"
          ],
          "name": "stdout"
        }
      ]
    },
    {
      "cell_type": "code",
      "metadata": {
        "id": "eSqC2Yly7zDH",
        "colab_type": "code",
        "colab": {
          "base_uri": "https://localhost:8080/",
          "height": 1000
        },
        "outputId": "b244568b-ca4c-4429-a58d-090fc53d5cb4"
      },
      "source": [
        "loss_func = nn.CrossEntropyLoss()\n",
        "optimizer = torch.optim.Adam(model.classifier.parameters(), lr = learning_rate)\n",
        "\n",
        "for I in range(n_epoch):\n",
        "    J = 0\n",
        "    for image, label in train_loader:\n",
        "        J += 1\n",
        "        image = Variable(image).cuda()\n",
        "        label = Variable(label).cuda()\n",
        "        # print(image.shape, label.shape)\n",
        "        optimizer.zero_grad()\n",
        "        output = model(image)\n",
        "        loss = loss_func(output, label)\n",
        "        loss.backward()\n",
        "        optimizer.step()\n",
        "\n",
        "        print('epoch [{}-{}/{}], loss:{:.4f}'.format(I + 1, J, n_epoch, loss.data.item()))"
      ],
      "execution_count": 8,
      "outputs": [
        {
          "output_type": "stream",
          "text": [
            "epoch [1-1/10], loss:6.8473\n",
            "epoch [1-2/10], loss:3.3467\n",
            "epoch [1-3/10], loss:9.3071\n",
            "epoch [1-4/10], loss:17.1866\n",
            "epoch [1-5/10], loss:16.7213\n",
            "epoch [1-6/10], loss:8.5592\n",
            "epoch [1-7/10], loss:5.1483\n",
            "epoch [1-8/10], loss:3.9466\n",
            "epoch [1-9/10], loss:2.8326\n",
            "epoch [1-10/10], loss:3.2036\n",
            "epoch [1-11/10], loss:2.9449\n",
            "epoch [1-12/10], loss:2.5684\n",
            "epoch [1-13/10], loss:2.2563\n",
            "epoch [1-14/10], loss:2.1720\n",
            "epoch [1-15/10], loss:1.7110\n",
            "epoch [1-16/10], loss:1.7842\n",
            "epoch [1-17/10], loss:1.7623\n",
            "epoch [1-18/10], loss:1.8058\n",
            "epoch [1-19/10], loss:1.5819\n",
            "epoch [1-20/10], loss:1.6182\n",
            "epoch [1-21/10], loss:1.6044\n",
            "epoch [1-22/10], loss:1.5119\n",
            "epoch [1-23/10], loss:1.5716\n",
            "epoch [1-24/10], loss:1.4478\n",
            "epoch [1-25/10], loss:1.4867\n",
            "epoch [1-26/10], loss:1.3943\n",
            "epoch [1-27/10], loss:1.3392\n",
            "epoch [1-28/10], loss:1.4311\n",
            "epoch [1-29/10], loss:1.4573\n",
            "epoch [1-30/10], loss:1.3046\n",
            "epoch [1-31/10], loss:1.4579\n",
            "epoch [1-32/10], loss:1.3417\n",
            "epoch [1-33/10], loss:1.2997\n",
            "epoch [1-34/10], loss:1.3421\n",
            "epoch [2-1/10], loss:1.2779\n",
            "epoch [2-2/10], loss:1.3081\n",
            "epoch [2-3/10], loss:1.2594\n",
            "epoch [2-4/10], loss:1.2669\n",
            "epoch [2-5/10], loss:1.2846\n",
            "epoch [2-6/10], loss:1.2420\n",
            "epoch [2-7/10], loss:1.2233\n",
            "epoch [2-8/10], loss:1.1765\n",
            "epoch [2-9/10], loss:1.2106\n",
            "epoch [2-10/10], loss:1.2455\n",
            "epoch [2-11/10], loss:1.0702\n",
            "epoch [2-12/10], loss:1.2693\n",
            "epoch [2-13/10], loss:1.2331\n",
            "epoch [2-14/10], loss:1.2241\n",
            "epoch [2-15/10], loss:1.2553\n",
            "epoch [2-16/10], loss:1.2321\n",
            "epoch [2-17/10], loss:1.2298\n",
            "epoch [2-18/10], loss:1.1414\n",
            "epoch [2-19/10], loss:1.0898\n",
            "epoch [2-20/10], loss:1.1043\n",
            "epoch [2-21/10], loss:1.1365\n",
            "epoch [2-22/10], loss:1.2708\n",
            "epoch [2-23/10], loss:1.0787\n",
            "epoch [2-24/10], loss:1.1190\n",
            "epoch [2-25/10], loss:1.2957\n",
            "epoch [2-26/10], loss:1.1506\n",
            "epoch [2-27/10], loss:1.1132\n",
            "epoch [2-28/10], loss:1.1867\n",
            "epoch [2-29/10], loss:1.1478\n",
            "epoch [2-30/10], loss:1.0602\n",
            "epoch [2-31/10], loss:1.0243\n",
            "epoch [2-32/10], loss:1.1289\n",
            "epoch [2-33/10], loss:1.1053\n",
            "epoch [2-34/10], loss:1.1160\n",
            "epoch [3-1/10], loss:1.1759\n",
            "epoch [3-2/10], loss:1.0436\n",
            "epoch [3-3/10], loss:1.0468\n",
            "epoch [3-4/10], loss:1.1153\n",
            "epoch [3-5/10], loss:1.2543\n",
            "epoch [3-6/10], loss:1.0683\n",
            "epoch [3-7/10], loss:1.1067\n",
            "epoch [3-8/10], loss:1.1883\n",
            "epoch [3-9/10], loss:0.9841\n",
            "epoch [3-10/10], loss:1.0773\n",
            "epoch [3-11/10], loss:0.9576\n",
            "epoch [3-12/10], loss:1.1275\n",
            "epoch [3-13/10], loss:1.0864\n",
            "epoch [3-14/10], loss:0.8944\n",
            "epoch [3-15/10], loss:1.1556\n",
            "epoch [3-16/10], loss:0.9934\n",
            "epoch [3-17/10], loss:1.0250\n",
            "epoch [3-18/10], loss:0.9955\n",
            "epoch [3-19/10], loss:0.9828\n",
            "epoch [3-20/10], loss:1.0920\n",
            "epoch [3-21/10], loss:0.9642\n",
            "epoch [3-22/10], loss:1.1042\n",
            "epoch [3-23/10], loss:1.0932\n",
            "epoch [3-24/10], loss:1.0317\n",
            "epoch [3-25/10], loss:1.0227\n",
            "epoch [3-26/10], loss:1.1332\n",
            "epoch [3-27/10], loss:1.0701\n",
            "epoch [3-28/10], loss:0.8247\n",
            "epoch [3-29/10], loss:0.8678\n",
            "epoch [3-30/10], loss:1.1639\n",
            "epoch [3-31/10], loss:1.0176\n",
            "epoch [3-32/10], loss:1.0741\n",
            "epoch [3-33/10], loss:0.8876\n",
            "epoch [3-34/10], loss:0.9890\n",
            "epoch [4-1/10], loss:0.9330\n",
            "epoch [4-2/10], loss:0.9286\n",
            "epoch [4-3/10], loss:0.8566\n",
            "epoch [4-4/10], loss:0.9502\n",
            "epoch [4-5/10], loss:1.0510\n",
            "epoch [4-6/10], loss:1.0501\n",
            "epoch [4-7/10], loss:0.8731\n",
            "epoch [4-8/10], loss:0.9398\n",
            "epoch [4-9/10], loss:1.2235\n",
            "epoch [4-10/10], loss:0.9518\n",
            "epoch [4-11/10], loss:0.8455\n",
            "epoch [4-12/10], loss:1.0189\n",
            "epoch [4-13/10], loss:0.9690\n",
            "epoch [4-14/10], loss:0.8991\n",
            "epoch [4-15/10], loss:0.8470\n",
            "epoch [4-16/10], loss:1.0784\n",
            "epoch [4-17/10], loss:0.7544\n",
            "epoch [4-18/10], loss:1.0628\n",
            "epoch [4-19/10], loss:0.9860\n",
            "epoch [4-20/10], loss:1.0070\n",
            "epoch [4-21/10], loss:0.8970\n",
            "epoch [4-22/10], loss:0.9172\n",
            "epoch [4-23/10], loss:0.8965\n",
            "epoch [4-24/10], loss:0.8246\n",
            "epoch [4-25/10], loss:0.8421\n",
            "epoch [4-26/10], loss:0.9627\n",
            "epoch [4-27/10], loss:1.0522\n",
            "epoch [4-28/10], loss:0.9059\n",
            "epoch [4-29/10], loss:0.8539\n",
            "epoch [4-30/10], loss:0.8298\n",
            "epoch [4-31/10], loss:1.0324\n",
            "epoch [4-32/10], loss:0.7476\n",
            "epoch [4-33/10], loss:1.1377\n",
            "epoch [4-34/10], loss:1.0488\n",
            "epoch [5-1/10], loss:0.9093\n",
            "epoch [5-2/10], loss:0.8400\n",
            "epoch [5-3/10], loss:0.8485\n",
            "epoch [5-4/10], loss:0.8706\n",
            "epoch [5-5/10], loss:0.7308\n",
            "epoch [5-6/10], loss:0.6529\n",
            "epoch [5-7/10], loss:0.8602\n",
            "epoch [5-8/10], loss:0.8851\n",
            "epoch [5-9/10], loss:0.7073\n",
            "epoch [5-10/10], loss:0.7148\n",
            "epoch [5-11/10], loss:0.8282\n",
            "epoch [5-12/10], loss:0.8209\n",
            "epoch [5-13/10], loss:0.8734\n",
            "epoch [5-14/10], loss:0.9167\n",
            "epoch [5-15/10], loss:0.8969\n",
            "epoch [5-16/10], loss:0.8951\n",
            "epoch [5-17/10], loss:0.7819\n",
            "epoch [5-18/10], loss:0.7968\n",
            "epoch [5-19/10], loss:0.9211\n",
            "epoch [5-20/10], loss:0.7947\n",
            "epoch [5-21/10], loss:0.8993\n",
            "epoch [5-22/10], loss:0.9604\n",
            "epoch [5-23/10], loss:0.7421\n",
            "epoch [5-24/10], loss:0.8445\n",
            "epoch [5-25/10], loss:0.8023\n",
            "epoch [5-26/10], loss:0.9456\n",
            "epoch [5-27/10], loss:0.7757\n",
            "epoch [5-28/10], loss:0.8950\n",
            "epoch [5-29/10], loss:0.8846\n",
            "epoch [5-30/10], loss:0.8190\n",
            "epoch [5-31/10], loss:0.9360\n",
            "epoch [5-32/10], loss:0.9406\n",
            "epoch [5-33/10], loss:0.7701\n",
            "epoch [5-34/10], loss:0.7419\n",
            "epoch [6-1/10], loss:0.7942\n",
            "epoch [6-2/10], loss:0.8897\n",
            "epoch [6-3/10], loss:0.8385\n",
            "epoch [6-4/10], loss:0.8216\n",
            "epoch [6-5/10], loss:0.7732\n",
            "epoch [6-6/10], loss:0.9942\n",
            "epoch [6-7/10], loss:0.7129\n",
            "epoch [6-8/10], loss:0.7534\n",
            "epoch [6-9/10], loss:0.6991\n",
            "epoch [6-10/10], loss:0.8678\n",
            "epoch [6-11/10], loss:0.8285\n",
            "epoch [6-12/10], loss:0.7197\n",
            "epoch [6-13/10], loss:0.8771\n",
            "epoch [6-14/10], loss:0.6159\n",
            "epoch [6-15/10], loss:0.7061\n",
            "epoch [6-16/10], loss:0.8380\n",
            "epoch [6-17/10], loss:0.7552\n",
            "epoch [6-18/10], loss:0.7335\n",
            "epoch [6-19/10], loss:0.6887\n",
            "epoch [6-20/10], loss:0.9465\n",
            "epoch [6-21/10], loss:0.6918\n",
            "epoch [6-22/10], loss:0.6328\n",
            "epoch [6-23/10], loss:0.6501\n",
            "epoch [6-24/10], loss:0.6879\n",
            "epoch [6-25/10], loss:0.8429\n",
            "epoch [6-26/10], loss:0.6141\n",
            "epoch [6-27/10], loss:0.5748\n",
            "epoch [6-28/10], loss:0.6143\n",
            "epoch [6-29/10], loss:0.7033\n",
            "epoch [6-30/10], loss:0.6658\n",
            "epoch [6-31/10], loss:0.8908\n",
            "epoch [6-32/10], loss:0.6931\n",
            "epoch [6-33/10], loss:0.7295\n",
            "epoch [6-34/10], loss:0.7090\n",
            "epoch [7-1/10], loss:0.6273\n",
            "epoch [7-2/10], loss:0.8395\n",
            "epoch [7-3/10], loss:0.5653\n",
            "epoch [7-4/10], loss:0.6936\n",
            "epoch [7-5/10], loss:0.7661\n",
            "epoch [7-6/10], loss:0.8465\n",
            "epoch [7-7/10], loss:0.7595\n",
            "epoch [7-8/10], loss:0.8503\n",
            "epoch [7-9/10], loss:0.6015\n",
            "epoch [7-10/10], loss:0.8636\n",
            "epoch [7-11/10], loss:0.7786\n",
            "epoch [7-12/10], loss:0.6184\n",
            "epoch [7-13/10], loss:0.7077\n",
            "epoch [7-14/10], loss:0.5449\n",
            "epoch [7-15/10], loss:0.5644\n",
            "epoch [7-16/10], loss:0.6691\n",
            "epoch [7-17/10], loss:0.6627\n",
            "epoch [7-18/10], loss:0.7051\n",
            "epoch [7-19/10], loss:0.6550\n",
            "epoch [7-20/10], loss:0.7863\n",
            "epoch [7-21/10], loss:0.7025\n",
            "epoch [7-22/10], loss:0.5568\n",
            "epoch [7-23/10], loss:1.1209\n",
            "epoch [7-24/10], loss:0.6049\n",
            "epoch [7-25/10], loss:0.6612\n",
            "epoch [7-26/10], loss:0.6647\n",
            "epoch [7-27/10], loss:0.6041\n",
            "epoch [7-28/10], loss:0.6365\n",
            "epoch [7-29/10], loss:0.6967\n",
            "epoch [7-30/10], loss:0.5520\n",
            "epoch [7-31/10], loss:0.5665\n",
            "epoch [7-32/10], loss:0.6795\n",
            "epoch [7-33/10], loss:0.5932\n",
            "epoch [7-34/10], loss:0.5777\n",
            "epoch [8-1/10], loss:0.7154\n",
            "epoch [8-2/10], loss:0.5014\n",
            "epoch [8-3/10], loss:0.5793\n",
            "epoch [8-4/10], loss:0.5654\n",
            "epoch [8-5/10], loss:0.4825\n",
            "epoch [8-6/10], loss:0.4796\n",
            "epoch [8-7/10], loss:0.4777\n",
            "epoch [8-8/10], loss:0.6170\n",
            "epoch [8-9/10], loss:0.4219\n",
            "epoch [8-10/10], loss:0.4475\n",
            "epoch [8-11/10], loss:0.6314\n",
            "epoch [8-12/10], loss:0.5994\n",
            "epoch [8-13/10], loss:0.5825\n",
            "epoch [8-14/10], loss:0.5852\n",
            "epoch [8-15/10], loss:0.5058\n",
            "epoch [8-16/10], loss:0.5908\n",
            "epoch [8-17/10], loss:0.4605\n",
            "epoch [8-18/10], loss:0.7516\n",
            "epoch [8-19/10], loss:0.6649\n",
            "epoch [8-20/10], loss:0.4651\n",
            "epoch [8-21/10], loss:0.5579\n",
            "epoch [8-22/10], loss:0.8130\n",
            "epoch [8-23/10], loss:0.4871\n",
            "epoch [8-24/10], loss:0.4503\n",
            "epoch [8-25/10], loss:0.5524\n",
            "epoch [8-26/10], loss:0.5790\n",
            "epoch [8-27/10], loss:0.4881\n",
            "epoch [8-28/10], loss:0.6136\n",
            "epoch [8-29/10], loss:0.5279\n",
            "epoch [8-30/10], loss:0.8101\n",
            "epoch [8-31/10], loss:0.4728\n",
            "epoch [8-32/10], loss:0.5202\n",
            "epoch [8-33/10], loss:0.5229\n",
            "epoch [8-34/10], loss:0.6798\n",
            "epoch [9-1/10], loss:0.4631\n",
            "epoch [9-2/10], loss:0.5206\n",
            "epoch [9-3/10], loss:0.5498\n",
            "epoch [9-4/10], loss:0.4468\n",
            "epoch [9-5/10], loss:0.5546\n",
            "epoch [9-6/10], loss:0.3488\n",
            "epoch [9-7/10], loss:0.5000\n",
            "epoch [9-8/10], loss:0.4126\n",
            "epoch [9-9/10], loss:0.3930\n",
            "epoch [9-10/10], loss:0.4658\n",
            "epoch [9-11/10], loss:0.4552\n",
            "epoch [9-12/10], loss:0.4493\n",
            "epoch [9-13/10], loss:0.4009\n",
            "epoch [9-14/10], loss:0.4398\n",
            "epoch [9-15/10], loss:0.3447\n",
            "epoch [9-16/10], loss:0.4604\n",
            "epoch [9-17/10], loss:0.3610\n",
            "epoch [9-18/10], loss:0.4249\n",
            "epoch [9-19/10], loss:0.3184\n",
            "epoch [9-20/10], loss:0.3633\n",
            "epoch [9-21/10], loss:0.4529\n",
            "epoch [9-22/10], loss:0.3586\n",
            "epoch [9-23/10], loss:0.5508\n",
            "epoch [9-24/10], loss:0.3633\n",
            "epoch [9-25/10], loss:0.4100\n",
            "epoch [9-26/10], loss:0.4949\n",
            "epoch [9-27/10], loss:0.3182\n",
            "epoch [9-28/10], loss:0.4151\n",
            "epoch [9-29/10], loss:0.4712\n",
            "epoch [9-30/10], loss:0.3860\n",
            "epoch [9-31/10], loss:0.4825\n",
            "epoch [9-32/10], loss:0.4779\n",
            "epoch [9-33/10], loss:0.4853\n",
            "epoch [9-34/10], loss:0.3604\n",
            "epoch [10-1/10], loss:0.4623\n",
            "epoch [10-2/10], loss:0.3660\n",
            "epoch [10-3/10], loss:0.4329\n",
            "epoch [10-4/10], loss:0.4224\n",
            "epoch [10-5/10], loss:0.3514\n",
            "epoch [10-6/10], loss:0.4285\n",
            "epoch [10-7/10], loss:0.3782\n",
            "epoch [10-8/10], loss:0.3982\n",
            "epoch [10-9/10], loss:0.3179\n",
            "epoch [10-10/10], loss:0.4140\n",
            "epoch [10-11/10], loss:0.2540\n",
            "epoch [10-12/10], loss:0.3114\n",
            "epoch [10-13/10], loss:0.3742\n",
            "epoch [10-14/10], loss:0.2837\n",
            "epoch [10-15/10], loss:0.3072\n",
            "epoch [10-16/10], loss:0.3067\n",
            "epoch [10-17/10], loss:0.2259\n",
            "epoch [10-18/10], loss:0.3772\n",
            "epoch [10-19/10], loss:0.2700\n",
            "epoch [10-20/10], loss:0.3116\n",
            "epoch [10-21/10], loss:0.3367\n",
            "epoch [10-22/10], loss:0.3099\n",
            "epoch [10-23/10], loss:0.3067\n",
            "epoch [10-24/10], loss:0.3514\n",
            "epoch [10-25/10], loss:0.1945\n",
            "epoch [10-26/10], loss:0.4044\n",
            "epoch [10-27/10], loss:0.2576\n",
            "epoch [10-28/10], loss:0.4371\n",
            "epoch [10-29/10], loss:0.3160\n",
            "epoch [10-30/10], loss:0.3565\n",
            "epoch [10-31/10], loss:0.2840\n",
            "epoch [10-32/10], loss:0.3263\n",
            "epoch [10-33/10], loss:0.2620\n",
            "epoch [10-34/10], loss:0.2838\n"
          ],
          "name": "stdout"
        }
      ]
    },
    {
      "cell_type": "markdown",
      "metadata": {
        "id": "7e0-yOgqPl9q",
        "colab_type": "text"
      },
      "source": [
        "## 測試"
      ]
    },
    {
      "cell_type": "code",
      "metadata": {
        "id": "HUOqD029IsEa",
        "colab_type": "code",
        "colab": {
          "base_uri": "https://localhost:8080/",
          "height": 153
        },
        "outputId": "66053659-8ce5-4ed1-cb05-5d55cc021cfd"
      },
      "source": [
        "dataiter = iter(train_loader)\n",
        "images, labels = dataiter.next()\n",
        "\n",
        "def imshow(img):\n",
        "    img = img / 2 + 0.5     # unnormalize\n",
        "    npimg = img.numpy()\n",
        "    plt.imshow(np.transpose(npimg, (1, 2, 0)))\n",
        "\n",
        "# print images\n",
        "imshow(torchvision.utils.make_grid(images[:4]))\n",
        "print('GroundTruth: ', ' '.join('%5s' % flowers_dataset.classes[labels[j]] for j in range(4)))"
      ],
      "execution_count": 9,
      "outputs": [
        {
          "output_type": "stream",
          "text": [
            "GroundTruth:  dandelion  rose daisy daisy\n"
          ],
          "name": "stdout"
        },
        {
          "output_type": "display_data",
          "data": {
            "image/png": "[encoded data removed]",
            "text/plain": [
              "<Figure size 432x288 with 1 Axes>"
            ]
          },
          "metadata": {
            "tags": []
          }
        }
      ]
    },
    {
      "cell_type": "code",
      "metadata": {
        "id": "3z8_Hx7kKOR5",
        "colab_type": "code",
        "colab": {
          "base_uri": "https://localhost:8080/",
          "height": 34
        },
        "outputId": "54eaed4d-acb9-41d5-8d63-6f6d14e28eb2"
      },
      "source": [
        "image = image.cuda()\n",
        "label = label.cuda()\n",
        "output = model(image)\n",
        "\n",
        "_, predicted = torch.max(output, 1)\n",
        "\n",
        "print('Predicted: ', ' '.join('%5s' % flowers_dataset.classes[predicted[j]]\n",
        "                              for j in range(4)))"
      ],
      "execution_count": 10,
      "outputs": [
        {
          "output_type": "stream",
          "text": [
            "Predicted:  tulip  rose tulip daisy\n"
          ],
          "name": "stdout"
        }
      ]
    },
    {
      "cell_type": "code",
      "metadata": {
        "id": "hBP644FkOkGx",
        "colab_type": "code",
        "colab": {
          "base_uri": "https://localhost:8080/",
          "height": 34
        },
        "outputId": "072911a3-45db-414a-8ead-19c9307d02db"
      },
      "source": [
        "correct = 0\n",
        "total = 0\n",
        "with torch.no_grad():\n",
        "    for data in train_loader:\n",
        "        images, labels = data\n",
        "        images = images.cuda()\n",
        "        labels = labels.cuda()\n",
        "        outputs = model(images)\n",
        "        _, predicted = torch.max(outputs.data, 1)\n",
        "        total += labels.size(0)\n",
        "        correct += (predicted == labels).sum().item()\n",
        "\n",
        "print('Accuracy of the network: %d %%' % (100 * correct / total))"
      ],
      "execution_count": 11,
      "outputs": [
        {
          "output_type": "stream",
          "text": [
            "Accuracy of the network: 92 %\n"
          ],
          "name": "stdout"
        }
      ]
    }
  ]
}