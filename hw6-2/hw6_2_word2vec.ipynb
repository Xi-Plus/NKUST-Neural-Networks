{
  "nbformat": 4,
  "nbformat_minor": 0,
  "metadata": {
    "colab": {
      "name": "hw6-2_word2vec.ipynb",
      "provenance": []
    },
    "kernelspec": {
      "name": "python3",
      "display_name": "Python 3"
    }
  },
  "cells": [
    {
      "cell_type": "markdown",
      "metadata": {
        "id": "Z4wKgRv-qdD1",
        "colab_type": "text"
      },
      "source": [
        "## import"
      ]
    },
    {
      "cell_type": "code",
      "metadata": {
        "id": "WZrDxSTFlCau",
        "colab_type": "code",
        "colab": {
          "base_uri": "https://localhost:8080/",
          "height": 62
        },
        "outputId": "947fa7bf-ff8b-46f8-f8ee-e88814a54031"
      },
      "source": [
        "\"\"\" Word2Vec.\n",
        "\n",
        "Implement Word2Vec algorithm to compute vector representations of words.\n",
        "This example is using a small chunk of Wikipedia articles to train from.\n",
        "\n",
        "References:\n",
        "    - Mikolov, Tomas et al. \"Efficient Estimation of Word Representations\n",
        "    in Vector Space.\", 2013.\n",
        "\n",
        "Links:\n",
        "    - [Word2Vec] https://arxiv.org/pdf/1301.3781.pdf\n",
        "\n",
        "Author: Aymeric Damien\n",
        "Project: https://github.com/aymericdamien/TensorFlow-Examples/\n",
        "\"\"\"\n",
        "from __future__ import division, print_function, absolute_import\n",
        "\n",
        "import collections\n",
        "import os\n",
        "import random\n",
        "import urllib.request\n",
        "import zipfile\n",
        "\n",
        "import numpy as np\n",
        "import tensorflow as tf"
      ],
      "execution_count": 1,
      "outputs": [
        {
          "output_type": "display_data",
          "data": {
            "text/html": [
              "<p style=\"color: red;\">\n",
              "The default version of TensorFlow in Colab will soon switch to TensorFlow 2.x.<br>\n",
              "We recommend you <a href=\"https://www.tensorflow.org/guide/migrate\" target=\"_blank\">upgrade</a> now \n",
              "or ensure your notebook will continue to use TensorFlow 1.x via the <code>%tensorflow_version 1.x</code> magic:\n",
              "<a href=\"https://colab.research.google.com/notebooks/tensorflow_version.ipynb\" target=\"_blank\">more info</a>.</p>\n"
            ],
            "text/plain": [
              "<IPython.core.display.HTML object>"
            ]
          },
          "metadata": {
            "tags": []
          }
        }
      ]
    },
    {
      "cell_type": "markdown",
      "metadata": {
        "id": "5ap5pEPErPvW",
        "colab_type": "text"
      },
      "source": [
        "## 參數設定"
      ]
    },
    {
      "cell_type": "code",
      "metadata": {
        "id": "mvUSrNLxom4i",
        "colab_type": "code",
        "colab": {}
      },
      "source": [
        "# Training Parameters\n",
        "learning_rate = 0.1\n",
        "batch_size = 128\n",
        "num_steps = 100000 # 3000000\n",
        "display_step = 10000\n",
        "eval_step = 50000 # 200000\n",
        "\n",
        "# Evaluation Parameters\n",
        "word_to_compare = 'funny'\n",
        "words = [\n",
        "    'hilarious',\n",
        "    'amusing',\n",
        "    'entertaining',\n",
        "    'humorous',\n",
        "    'fun',\n",
        "    'laugh',\n",
        "    'good',\n",
        "    'apple',\n",
        "    'banana',\n",
        "    'orange',\n",
        "]\n",
        "\n",
        "# Word2Vec Parameters\n",
        "embedding_size = 200 # Dimension of the embedding vector\n",
        "max_vocabulary_size = 50000 # Total number of different words in the vocabulary\n",
        "min_occurrence = 10 # Remove all words that does not appears at least n times\n",
        "skip_window = 3 # How many words to consider left and right\n",
        "num_skips = 2 # How many times to reuse an input to generate a label\n",
        "num_sampled = 64 # Number of negative examples to sample"
      ],
      "execution_count": 0,
      "outputs": []
    },
    {
      "cell_type": "markdown",
      "metadata": {
        "id": "9lahZ3kCqVrE",
        "colab_type": "text"
      },
      "source": [
        "## 下載IMDB資料集"
      ]
    },
    {
      "cell_type": "code",
      "metadata": {
        "id": "ckbVH81EqURw",
        "colab_type": "code",
        "colab": {}
      },
      "source": [
        "import urllib.request\n",
        "import os\n",
        "import tarfile"
      ],
      "execution_count": 0,
      "outputs": []
    },
    {
      "cell_type": "code",
      "metadata": {
        "id": "yJCU_Bp1qZRl",
        "colab_type": "code",
        "colab": {}
      },
      "source": [
        "if not os.path.exists('data/'):\n",
        "    os.makedirs('data/')\n",
        "\n",
        "url=\"http://ai.stanford.edu/~amaas/data/sentiment/aclImdb_v1.tar.gz\"\n",
        "filepath=\"data/aclImdb_v1.tar.gz\"\n",
        "if not os.path.isfile(filepath):\n",
        "    result=urllib.request.urlretrieve(url,filepath)\n",
        "    print('downloaded:',result)"
      ],
      "execution_count": 0,
      "outputs": []
    },
    {
      "cell_type": "code",
      "metadata": {
        "id": "yAMNLBrRqaWE",
        "colab_type": "code",
        "colab": {}
      },
      "source": [
        "if not os.path.exists(\"data/aclImdb\"):\n",
        "    tfile = tarfile.open(\"data/aclImdb_v1.tar.gz\", 'r:gz')\n",
        "    result=tfile.extractall('data/')"
      ],
      "execution_count": 0,
      "outputs": []
    },
    {
      "cell_type": "markdown",
      "metadata": {
        "id": "mEq8r4Bjrbqi",
        "colab_type": "text"
      },
      "source": [
        "## 讀取IMDB"
      ]
    },
    {
      "cell_type": "code",
      "metadata": {
        "id": "DsyFKOtIrdl7",
        "colab_type": "code",
        "colab": {}
      },
      "source": [
        "import re\n",
        "def rm_tags(text):\n",
        "    re_tag = re.compile(r'<[^>]+>')\n",
        "    return re_tag.sub('', text)"
      ],
      "execution_count": 0,
      "outputs": []
    },
    {
      "cell_type": "code",
      "metadata": {
        "id": "1jj4b9K7reij",
        "colab_type": "code",
        "colab": {}
      },
      "source": [
        "import os\n",
        "def read_files(filetype):\n",
        "    path = \"data/aclImdb/\"\n",
        "    file_list=[]\n",
        "\n",
        "    positive_path=path + filetype+\"/pos/\"\n",
        "    for f in os.listdir(positive_path):\n",
        "        file_list+=[positive_path+f]\n",
        "    \n",
        "    negative_path=path + filetype+\"/neg/\"\n",
        "    for f in os.listdir(negative_path):\n",
        "        file_list+=[negative_path+f]\n",
        "        \n",
        "    print('read',filetype, 'files:',len(file_list))\n",
        "       \n",
        "    all_labels = ([1] * 12500 + [0] * 12500) \n",
        "    \n",
        "    all_texts  = []\n",
        "    for fi in file_list:\n",
        "        with open(fi,encoding='utf8') as file_input:\n",
        "            all_texts += [rm_tags(\" \".join(file_input.readlines()))]\n",
        "            \n",
        "    return all_labels,all_texts"
      ],
      "execution_count": 0,
      "outputs": []
    },
    {
      "cell_type": "code",
      "metadata": {
        "id": "28-R_rGSrfcS",
        "colab_type": "code",
        "colab": {
          "base_uri": "https://localhost:8080/",
          "height": 34
        },
        "outputId": "aa684c55-6717-40be-8736-cb0381fedcb7"
      },
      "source": [
        "y_train,train_text=read_files(\"train\")"
      ],
      "execution_count": 8,
      "outputs": [
        {
          "output_type": "stream",
          "text": [
            "read train files: 25000\n"
          ],
          "name": "stdout"
        }
      ]
    },
    {
      "cell_type": "code",
      "metadata": {
        "id": "-abJv11Rrg2L",
        "colab_type": "code",
        "colab": {
          "base_uri": "https://localhost:8080/",
          "height": 34
        },
        "outputId": "439eac95-1e2d-40d1-8dd7-9d69344c8ada"
      },
      "source": [
        "y_test,test_text=read_files(\"test\")"
      ],
      "execution_count": 9,
      "outputs": [
        {
          "output_type": "stream",
          "text": [
            "read test files: 25000\n"
          ],
          "name": "stdout"
        }
      ]
    },
    {
      "cell_type": "markdown",
      "metadata": {
        "id": "VuDuP1GZrjN2",
        "colab_type": "text"
      },
      "source": [
        "## 處理IMDB資料\n",
        "將資料集文字移除標點符號，合併成一個list"
      ]
    },
    {
      "cell_type": "code",
      "metadata": {
        "id": "GLmSZGRprh0r",
        "colab_type": "code",
        "colab": {}
      },
      "source": [
        "import string\n",
        "table = str.maketrans('', '', string.punctuation)\n",
        "text_words = []\n",
        "\n",
        "for line in train_text + test_text:\n",
        "    line = line.lower()\n",
        "    line = line.translate(table)\n",
        "    line = re.sub(r'  +', ' ', line)\n",
        "    line = line.strip().split(' ')\n",
        "    for word in line:\n",
        "        text_words.append(word.encode())"
      ],
      "execution_count": 0,
      "outputs": []
    },
    {
      "cell_type": "code",
      "metadata": {
        "id": "vvX0NI_zrpfE",
        "colab_type": "code",
        "colab": {
          "base_uri": "https://localhost:8080/",
          "height": 54
        },
        "outputId": "36cbcd73-054e-448f-c3e0-c6039a276168"
      },
      "source": [
        "print(text_words[:100])"
      ],
      "execution_count": 11,
      "outputs": [
        {
          "output_type": "stream",
          "text": [
            "[b'the', b'jokes', b'are', b'obvious', b'the', b'gags', b'are', b'corny', b'and', b'the', b'characters', b'are', b'walking', b'characatures', b'but', b'i', b'couldnt', b'stop', b'from', b'laughing', b'at', b'his', b'highly', b'entertaining', b'movie', b'no', b'matter', b'how', b'many', b'times', b'i', b'see', b'it', b'i', b'still', b'get', b'a', b'kick', b'out', b'of', b'this', b'one', b'and', b'i', b'recommend', b'it', b'highly', b'for', b'all', b'lovers', b'of', b'mindless', b'entertainment', b'it', b'contains', b'many', b'quotable', b'moments', b'and', b'some', b'of', b'the', b'best', b'sightgags', b'ive', b'seen', b'to', b'this', b'day', b'if', b'youve', b'had', b'a', b'bad', b'week', b'and', b'you', b'need', b'a', b'chuckle', b'rent', b'this', b'one', b'on', b'your', b'way', b'home', b'friday', b'night', b'to', b'give', b'your', b'weekend', b'a', b'good', b'start', b'i', b'myself', b'feel', b'this']\n"
          ],
          "name": "stdout"
        }
      ]
    },
    {
      "cell_type": "code",
      "metadata": {
        "id": "SNBcVrVoo3sT",
        "colab_type": "code",
        "colab": {}
      },
      "source": [
        "# Build the dictionary and replace rare words with UNK token\n",
        "count = [('UNK', -1)]\n",
        "# Retrieve the most common words\n",
        "count.extend(collections.Counter(text_words).most_common(max_vocabulary_size - 1))\n",
        "# Remove samples with less than 'min_occurrence' occurrences\n",
        "for i in range(len(count) - 1, -1, -1):\n",
        "    if count[i][1] < min_occurrence:\n",
        "        count.pop(i)\n",
        "    else:\n",
        "        # The collection is ordered, so stop when 'min_occurrence' is reached\n",
        "        break\n",
        "# Compute the vocabulary size\n",
        "vocabulary_size = len(count)\n",
        "# Assign an id to each word\n",
        "word2id = dict()\n",
        "for i, (word, _)in enumerate(count):\n",
        "    #print(word)\n",
        "    #print(i)\n",
        "    word2id[word] = i"
      ],
      "execution_count": 0,
      "outputs": []
    },
    {
      "cell_type": "code",
      "metadata": {
        "id": "rTOPxhvio61N",
        "colab_type": "code",
        "colab": {
          "base_uri": "https://localhost:8080/",
          "height": 104
        },
        "outputId": "7b969f21-e7f5-4c9d-988d-950103e76829"
      },
      "source": [
        "data = list()\n",
        "unk_count = 0\n",
        "for word in text_words:\n",
        "    # Retrieve a word id, or assign it index 0 ('UNK') if not in dictionary\n",
        "    index = word2id.get(word, 0)\n",
        "    #print(word)\n",
        "    #print(index)\n",
        "    if index == 0:\n",
        "        unk_count += 1\n",
        "    data.append(index)\n",
        "count[0] = ('UNK', unk_count)\n",
        "id2word = dict(zip(word2id.values(), word2id.keys()))\n",
        "\n",
        "print(\"Words count:\", len(text_words))\n",
        "print(\"Unique words:\", len(set(text_words)))\n",
        "print(\"Vocabulary size:\", vocabulary_size)\n",
        "print(\"Most common words:\", count[:10])"
      ],
      "execution_count": 13,
      "outputs": [
        {
          "output_type": "stream",
          "text": [
            "Words count: 11312464\n",
            "Unique words: 223865\n",
            "Vocabulary size: 29880\n",
            "Most common words: [('UNK', 336976), (b'the', 650537), (b'and', 319334), (b'a', 319204), (b'of', 288060), (b'to', 266275), (b'is', 210043), (b'in', 183111), (b'it', 151223), (b'i', 145450)]\n"
          ],
          "name": "stdout"
        }
      ]
    },
    {
      "cell_type": "code",
      "metadata": {
        "id": "c1o60jqWo8QB",
        "colab_type": "code",
        "colab": {}
      },
      "source": [
        "data_index = 0\n",
        "# Generate training batch for the skip-gram model\n",
        "def next_batch(batch_size, num_skips, skip_window):\n",
        "    global data_index\n",
        "    assert batch_size % num_skips == 0\n",
        "    assert num_skips <= 2 * skip_window\n",
        "    batch = np.ndarray(shape=(batch_size), dtype=np.int32)\n",
        "    labels = np.ndarray(shape=(batch_size, 1), dtype=np.int32)\n",
        "    # get window size (words left and right + current one)\n",
        "    span = 2 * skip_window + 1\n",
        "    buffer = collections.deque(maxlen=span)\n",
        "    if data_index + span > len(data):\n",
        "        data_index = 0\n",
        "    buffer.extend(data[data_index:data_index + span])\n",
        "    data_index += span\n",
        "    for i in range(batch_size // num_skips):\n",
        "        context_words = [w for w in range(span) if w != skip_window]\n",
        "        words_to_use = random.sample(context_words, num_skips)\n",
        "        for j, context_word in enumerate(words_to_use):\n",
        "            batch[i * num_skips + j] = buffer[skip_window]\n",
        "            labels[i * num_skips + j, 0] = buffer[context_word]\n",
        "        if data_index == len(data):\n",
        "            buffer.extend(data[0:span])\n",
        "            data_index = span\n",
        "        else:\n",
        "            buffer.append(data[data_index])\n",
        "            data_index += 1\n",
        "    # Backtrack a little bit to avoid skipping words in the end of a batch\n",
        "    data_index = (data_index + len(data) - span) % len(data)\n",
        "    return batch, labels"
      ],
      "execution_count": 0,
      "outputs": []
    },
    {
      "cell_type": "code",
      "metadata": {
        "id": "MueBE5eEo9sV",
        "colab_type": "code",
        "colab": {
          "base_uri": "https://localhost:8080/",
          "height": 826
        },
        "outputId": "e7b34b18-60c0-47a7-b772-b6400f496116"
      },
      "source": [
        "# Input data\n",
        "X = tf.placeholder(tf.int32, shape=[None])\n",
        "# Input label\n",
        "Y = tf.placeholder(tf.int32, shape=[None, 1])\n",
        "\n",
        "# Ensure the following ops & var are assigned on CPU\n",
        "# (some ops are not compatible on GPU)\n",
        "with tf.device('/cpu:0'):\n",
        "    # Create the embedding variable (each row represent a word embedding vector)\n",
        "    embedding = tf.Variable(tf.random_normal([vocabulary_size, embedding_size]))\n",
        "    # Lookup the corresponding embedding vectors for each sample in X\n",
        "    X_embed = tf.nn.embedding_lookup(embedding, X)\n",
        "\n",
        "    # Construct the variables for the NCE loss\n",
        "    nce_weights = tf.Variable(tf.random_normal([vocabulary_size, embedding_size]))\n",
        "    nce_biases = tf.Variable(tf.zeros([vocabulary_size]))\n",
        "\n",
        "# Compute the average NCE loss for the batch\n",
        "loss_op = tf.reduce_mean(\n",
        "    tf.nn.nce_loss(weights=nce_weights,\n",
        "                   biases=nce_biases,\n",
        "                   labels=Y,\n",
        "                   inputs=X_embed,\n",
        "                   num_sampled=num_sampled,\n",
        "                   num_classes=vocabulary_size))\n",
        "\n",
        "# Define the optimizer\n",
        "optimizer = tf.train.GradientDescentOptimizer(learning_rate)\n",
        "train_op = optimizer.minimize(loss_op)\n",
        "\n",
        "# Evaluation\n",
        "# Compute the cosine similarity between input data embedding and every embedding vectors\n",
        "X_embed_norm = X_embed / tf.sqrt(tf.reduce_sum(tf.square(X_embed)))\n",
        "embedding_norm = embedding / tf.sqrt(tf.reduce_sum(tf.square(embedding), 1, keepdims=True))\n",
        "cosine_sim_op = tf.matmul(X_embed_norm, embedding_norm, transpose_b=True)\n",
        "\n",
        "# Initialize the variables (i.e. assign their default value)\n",
        "init = tf.global_variables_initializer()\n",
        "\n",
        "with tf.Session() as sess:\n",
        "\n",
        "    # Run the initializer\n",
        "    sess.run(init)\n",
        "\n",
        "    # Testing data\n",
        "    x_test = np.array([word2id[w.encode()] for w in [word_to_compare]])\n",
        "\n",
        "    average_loss = 0\n",
        "    for step in range(1, num_steps + 1):\n",
        "        # Get a new batch of data\n",
        "        batch_x, batch_y = next_batch(batch_size, num_skips, skip_window)\n",
        "        # Run training op\n",
        "        _, loss = sess.run([train_op, loss_op], feed_dict={X: batch_x, Y: batch_y})\n",
        "        average_loss += loss\n",
        "\n",
        "        if step % display_step == 0 or step == 1:\n",
        "            if step > 1:\n",
        "                average_loss /= display_step\n",
        "            print(\"Step \" + str(step) + \", Average Loss= \" + \\\n",
        "                  \"{:.4f}\".format(average_loss))\n",
        "            average_loss = 0\n",
        "\n",
        "        # Evaluation\n",
        "        if step % eval_step == 0 or step == 1:\n",
        "            print(\"Evaluation...\")\n",
        "            sim = sess.run(cosine_sim_op, feed_dict={X: x_test})\n",
        "            for word in words:\n",
        "                print('  distance between \"{}\" and \"{}\" is {:.2f}'.format(\n",
        "                    word_to_compare,\n",
        "                    word,\n",
        "                    sim[0][word2id[word.encode()]]\n",
        "                ))"
      ],
      "execution_count": 15,
      "outputs": [
        {
          "output_type": "stream",
          "text": [
            "WARNING:tensorflow:From /usr/local/lib/python3.6/dist-packages/tensorflow_core/python/ops/nn_impl.py:183: where (from tensorflow.python.ops.array_ops) is deprecated and will be removed in a future version.\n",
            "Instructions for updating:\n",
            "Use tf.where in 2.0, which has the same broadcast rule as np.where\n",
            "Step 1, Average Loss= 491.5267\n",
            "Evaluation...\n",
            "  distance between \"funny\" and \"hilarious\" is -0.05\n",
            "  distance between \"funny\" and \"amusing\" is -0.01\n",
            "  distance between \"funny\" and \"entertaining\" is 0.03\n",
            "  distance between \"funny\" and \"humorous\" is -0.09\n",
            "  distance between \"funny\" and \"fun\" is 0.08\n",
            "  distance between \"funny\" and \"laugh\" is -0.02\n",
            "  distance between \"funny\" and \"good\" is -0.01\n",
            "  distance between \"funny\" and \"apple\" is -0.10\n",
            "  distance between \"funny\" and \"banana\" is -0.06\n",
            "  distance between \"funny\" and \"orange\" is 0.06\n",
            "Step 10000, Average Loss= 161.4916\n",
            "Step 20000, Average Loss= 64.9322\n",
            "Step 30000, Average Loss= 44.1460\n",
            "Step 40000, Average Loss= 34.7992\n",
            "Step 50000, Average Loss= 29.2630\n",
            "Evaluation...\n",
            "  distance between \"funny\" and \"hilarious\" is 0.59\n",
            "  distance between \"funny\" and \"amusing\" is 0.46\n",
            "  distance between \"funny\" and \"entertaining\" is 0.67\n",
            "  distance between \"funny\" and \"humorous\" is 0.34\n",
            "  distance between \"funny\" and \"fun\" is 0.75\n",
            "  distance between \"funny\" and \"laugh\" is 0.55\n",
            "  distance between \"funny\" and \"good\" is 0.80\n",
            "  distance between \"funny\" and \"apple\" is 0.01\n",
            "  distance between \"funny\" and \"banana\" is 0.07\n",
            "  distance between \"funny\" and \"orange\" is 0.17\n",
            "Step 60000, Average Loss= 25.1983\n",
            "Step 70000, Average Loss= 22.1801\n",
            "Step 80000, Average Loss= 20.0554\n",
            "Step 90000, Average Loss= 18.3716\n",
            "Step 100000, Average Loss= 18.7762\n",
            "Evaluation...\n",
            "  distance between \"funny\" and \"hilarious\" is 0.54\n",
            "  distance between \"funny\" and \"amusing\" is 0.45\n",
            "  distance between \"funny\" and \"entertaining\" is 0.62\n",
            "  distance between \"funny\" and \"humorous\" is 0.37\n",
            "  distance between \"funny\" and \"fun\" is 0.70\n",
            "  distance between \"funny\" and \"laugh\" is 0.52\n",
            "  distance between \"funny\" and \"good\" is 0.81\n",
            "  distance between \"funny\" and \"apple\" is 0.07\n",
            "  distance between \"funny\" and \"banana\" is 0.13\n",
            "  distance between \"funny\" and \"orange\" is 0.27\n"
          ],
          "name": "stdout"
        }
      ]
    }
  ]
}