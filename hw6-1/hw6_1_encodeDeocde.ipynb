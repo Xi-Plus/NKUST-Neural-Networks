{
  "nbformat": 4,
  "nbformat_minor": 0,
  "metadata": {
    "colab": {
      "name": "hw6-1_encodeDeocde.ipynb",
      "provenance": []
    },
    "kernelspec": {
      "name": "python3",
      "display_name": "Python 3"
    },
    "accelerator": "GPU"
  },
  "cells": [
    {
      "cell_type": "markdown",
      "metadata": {
        "id": "KbroafDhbnUX",
        "colab_type": "text"
      },
      "source": [
        "## 判斷是否使用Google colab執行\n",
        "若是，則從Google Drive掛載資料，Google colab專用\n",
        "否則應設定 ROOT_DIR"
      ]
    },
    {
      "cell_type": "code",
      "metadata": {
        "id": "r7Kwc0pbYx-X",
        "colab_type": "code",
        "colab": {
          "base_uri": "https://localhost:8080/",
          "height": 50
        },
        "outputId": "55b888e9-77e5-4333-9a6c-c035f43b807a"
      },
      "source": [
        "try:\n",
        "    from google.colab import drive\n",
        "    IN_COLAB = True\n",
        "except:\n",
        "    IN_COLAB = False\n",
        "\n",
        "print('IN_COLAB', IN_COLAB)\n",
        "\n",
        "if IN_COLAB:\n",
        "    drive.mount('/content/drive', force_remount=True)\n",
        "    ROOT_DIR = '/content/drive/Shared drives/Straight A students/類神經網路/BDRW'\n",
        "else:\n",
        "    ROOT_DIR = 'BDRW'"
      ],
      "execution_count": 1,
      "outputs": [
        {
          "output_type": "stream",
          "text": [
            "IN_COLAB True\n",
            "Mounted at /content/drive\n"
          ],
          "name": "stdout"
        }
      ]
    },
    {
      "cell_type": "code",
      "metadata": {
        "id": "yctAZmKC8-8b",
        "colab_type": "code",
        "colab": {}
      },
      "source": [
        "import torch\n",
        "\n",
        "torch.manual_seed(1)\n",
        "n_epoch = 20\n",
        "batch_size = 100\n",
        "learning_rate = 0.0002"
      ],
      "execution_count": 0,
      "outputs": []
    },
    {
      "cell_type": "markdown",
      "metadata": {
        "id": "LkAQlmSL8kMN",
        "colab_type": "text"
      },
      "source": [
        "## imports"
      ]
    },
    {
      "cell_type": "code",
      "metadata": {
        "id": "HlHnQCIvRD0a",
        "colab_type": "code",
        "colab": {}
      },
      "source": [
        "import torch\n",
        "import numpy as np\n",
        "import matplotlib.pyplot as plt\n",
        "import os\n",
        "import skimage.io\n",
        "import pdb\n",
        "import torchvision\n",
        "import cv2\n",
        "import csv\n",
        "from torch import nn\n",
        "from torch.autograd import Variable\n",
        "from torch.utils.data import DataLoader\n",
        "from torchvision import transforms\n",
        "from torchvision.utils import save_image\n",
        "from torchvision import datasets"
      ],
      "execution_count": 0,
      "outputs": []
    },
    {
      "cell_type": "markdown",
      "metadata": {
        "id": "EbzkOAZFbyHf",
        "colab_type": "text"
      },
      "source": [
        "## 載入BDRW"
      ]
    },
    {
      "cell_type": "code",
      "metadata": {
        "id": "UtuhIKs7gIuF",
        "colab_type": "code",
        "colab": {}
      },
      "source": [
        "class BDRWDataset(torch.utils.data.Dataset):\n",
        "    def __init__(self, root_dir):\n",
        "        self.root_dir = root_dir\n",
        "        self.labels = []\n",
        "        self.labelsdic = {}\n",
        "        with open(os.path.join(root_dir, 'labels.csv')) as csvfile:\n",
        "            reader = csv.reader(csvfile)\n",
        "            for row in reader:\n",
        "                # print(row)\n",
        "                self.labels.append(row)\n",
        "                self.labelsdic[row[0]] = int(row[1])\n",
        "\n",
        "    def __len__(self):\n",
        "        return len(self.labels)\n",
        "\n",
        "    def __getitem__(self, idx):\n",
        "        if torch.is_tensor(idx):\n",
        "            idx = idx.tolist()\n",
        "        \n",
        "        if idx < 984:\n",
        "            img_name = os.path.join(self.root_dir, 'BDRW_train_1', self.labels[idx][0]+'.jpg')\n",
        "        else:\n",
        "            img_name = os.path.join(self.root_dir, 'BDRW_train_2', self.labels[idx][0]+'.jpg')\n",
        "\n",
        "        image = cv2.imread(img_name, cv2.IMREAD_GRAYSCALE)\n",
        "        if image is None:\n",
        "            raise Exception('{} not found'.format(img_name))\n",
        "        image = cv2.resize(image, (28, 28))\n",
        "        _, image = cv2.threshold(image, 0, 255, cv2.THRESH_BINARY + cv2.THRESH_OTSU)\n",
        "        # _, image = cv2.threshold(image, 127, 255, cv2.THRESH_BINARY)\n",
        "        if np.sum(image>128) > 392:\n",
        "            image = cv2.bitwise_not(image)\n",
        "        image = image/255\n",
        "        image = image.astype(np.float32)\n",
        "        image = image.reshape(1, 28, 28)\n",
        "\n",
        "        return image, self.labelsdic[self.labels[idx][0]]"
      ],
      "execution_count": 0,
      "outputs": []
    },
    {
      "cell_type": "code",
      "metadata": {
        "id": "kjlqeZEahspM",
        "colab_type": "code",
        "colab": {}
      },
      "source": [
        "bdrw_dataset = BDRWDataset(root_dir=ROOT_DIR)\n",
        "train_loader = DataLoader(dataset = bdrw_dataset, batch_size = batch_size, shuffle = True)"
      ],
      "execution_count": 0,
      "outputs": []
    },
    {
      "cell_type": "markdown",
      "metadata": {
        "id": "JcCqpMT9b3EN",
        "colab_type": "text"
      },
      "source": [
        "## 主程式"
      ]
    },
    {
      "cell_type": "code",
      "metadata": {
        "id": "6IQYCmFtUg9G",
        "colab_type": "code",
        "colab": {}
      },
      "source": [
        "class Encoder(nn.Module):\n",
        "    def __init__(self):\n",
        "        super(Encoder, self).__init__()\n",
        "        self.layer1 = nn.Sequential(\n",
        "            nn.Conv2d(1, 32, 3, padding = 1),\n",
        "            nn.ReLU(),\n",
        "            nn.BatchNorm2d(32),\n",
        "            nn.Conv2d(32, 32, 3, padding = 1),\n",
        "            nn.ReLU(),\n",
        "            nn.BatchNorm2d(32),\n",
        "            nn.Conv2d(32, 64, 3, padding = 1),\n",
        "            nn.ReLU(),\n",
        "            nn.BatchNorm2d(64),\n",
        "            nn.Conv2d(64, 64, 3, padding = 1),\n",
        "            nn.ReLU(),\n",
        "            nn.BatchNorm2d(64),\n",
        "            nn.MaxPool2d(2, 2)\n",
        "        )\n",
        "        self.layer2 = nn.Sequential(\n",
        "            nn.Conv2d(64, 128, 3, padding = 1),\n",
        "            nn.ReLU(),\n",
        "            nn.BatchNorm2d(128),\n",
        "            nn.Conv2d(128, 128, 3, padding = 1),\n",
        "            nn.ReLU(),\n",
        "            nn.BatchNorm2d(128),\n",
        "            nn.MaxPool2d(2, 2),\n",
        "            nn.Conv2d(128, 256, 3, padding = 1),\n",
        "            nn.ReLU()\n",
        "        )\n",
        "\n",
        "    def forward(self, x):\n",
        "        out = self.layer1(x)\n",
        "        out = self.layer2(out)\n",
        "        out = out.view(x.shape[0], -1)\n",
        "        return out\n",
        "\n",
        "\n",
        "class Decoder(nn.Module):\n",
        "    def __init__(self):\n",
        "        super(Decoder, self).__init__()\n",
        "        self.layer1 = nn.Sequential(\n",
        "            nn.ConvTranspose2d(256, 128, 3, 2, 1, 1),\n",
        "            nn.ReLU(),\n",
        "            nn.BatchNorm2d(128),\n",
        "            nn.ConvTranspose2d(128, 128, 3, 1, 1),\n",
        "            nn.ReLU(),\n",
        "            nn.BatchNorm2d(128),\n",
        "            nn.ConvTranspose2d(128, 64, 3, 1, 1),\n",
        "            nn.ReLU(),\n",
        "            nn.BatchNorm2d(64),\n",
        "            nn.ConvTranspose2d(64, 64, 3, 1, 1),\n",
        "            nn.ReLU(),\n",
        "            nn.BatchNorm2d(64)\n",
        "        )\n",
        "        self.layer2 = nn.Sequential(\n",
        "            nn.ConvTranspose2d(64, 32, 3, 1, 1),\n",
        "            nn.ReLU(),\n",
        "            nn.BatchNorm2d(32),\n",
        "            nn.ConvTranspose2d(32, 32, 3, 1, 1),\n",
        "            nn.ReLU(),\n",
        "            nn.BatchNorm2d(32),\n",
        "            nn.ConvTranspose2d(32, 1, 3, 2, 1, 1),\n",
        "            nn.ReLU()\n",
        "        )\n",
        "\n",
        "    def forward(self, x):\n",
        "        out = x.view(x.shape[0], 256, 7, 7)\n",
        "        out = self.layer1(out)\n",
        "        out = self.layer2(out)\n",
        "        return out"
      ],
      "execution_count": 0,
      "outputs": []
    },
    {
      "cell_type": "code",
      "metadata": {
        "id": "sMRiOQ8zUm2W",
        "colab_type": "code",
        "outputId": "098ff93d-f320-4e20-b42c-6d4f8fc93d60",
        "colab": {
          "base_uri": "https://localhost:8080/",
          "height": 353
        }
      },
      "source": [
        "encoder = Encoder().cuda()\n",
        "decoder = Decoder().cuda()\n",
        "parameters = list(encoder.parameters()) + list(decoder.parameters())\n",
        "loss_func = nn.MSELoss()\n",
        "optimizer = torch.optim.Adam(parameters, lr = learning_rate)\n",
        "\n",
        "# noise = torch.rand(batch_size, 1, 28, 28)\n",
        "# cnt = 0\n",
        "for I in range(n_epoch):\n",
        "    for image, label in train_loader:\n",
        "        # print(image.shape, label)\n",
        "        temp_batch_size = image.shape[0]\n",
        "        image_n = torch.mul(image + 0.25, 0.1 * torch.rand(temp_batch_size, 1, 28, 28))\n",
        "        # cnt += 1\n",
        "        # print(cnt, image_n.shape)\n",
        "        image = Variable(image).cuda()\n",
        "        image_n = Variable(image_n).cuda()\n",
        "        optimizer.zero_grad()\n",
        "        output = encoder(image_n)\n",
        "        output = decoder(output)\n",
        "        loss = loss_func(output, image)\n",
        "        loss.backward()\n",
        "        optimizer.step()\n",
        "\n",
        "    print('epoch [{}/{}], loss:{:.4f}'.format(I + 1, n_epoch, loss.data.item()))"
      ],
      "execution_count": 7,
      "outputs": [
        {
          "output_type": "stream",
          "text": [
            "epoch [1/20], loss:0.2353\n",
            "epoch [2/20], loss:0.1450\n",
            "epoch [3/20], loss:0.0979\n",
            "epoch [4/20], loss:0.0885\n",
            "epoch [5/20], loss:0.0759\n",
            "epoch [6/20], loss:0.0741\n",
            "epoch [7/20], loss:0.0685\n",
            "epoch [8/20], loss:0.0641\n",
            "epoch [9/20], loss:0.0574\n",
            "epoch [10/20], loss:0.0630\n",
            "epoch [11/20], loss:0.0564\n",
            "epoch [12/20], loss:0.0547\n",
            "epoch [13/20], loss:0.0524\n",
            "epoch [14/20], loss:0.0524\n",
            "epoch [15/20], loss:0.0545\n",
            "epoch [16/20], loss:0.0464\n",
            "epoch [17/20], loss:0.0504\n",
            "epoch [18/20], loss:0.0472\n",
            "epoch [19/20], loss:0.0457\n",
            "epoch [20/20], loss:0.0435\n"
          ],
          "name": "stdout"
        }
      ]
    },
    {
      "cell_type": "code",
      "metadata": {
        "id": "fx4sWcgVUq4s",
        "colab_type": "code",
        "outputId": "5bb3d70a-b66e-4e2d-9676-1a857e53ce4a",
        "colab": {
          "base_uri": "https://localhost:8080/",
          "height": 761
        }
      },
      "source": [
        "for i in range(5):\n",
        "    img = image[i].cpu()\n",
        "    input_img = image_n[i].cpu()\n",
        "    output_img = output[i].cpu()\n",
        "    origin = (img.data).detach().numpy()\n",
        "    inp = (input_img.data).detach().numpy()\n",
        "    out = (output_img.data).detach().numpy()\n",
        "    plt.figure('denoising autoencoder')\n",
        "    plt.subplot(131)\n",
        "    plt.imshow(origin[0], cmap = 'gray')\n",
        "    plt.subplot(132)\n",
        "    plt.imshow(inp[0], cmap = 'gray')\n",
        "    plt.subplot(133)\n",
        "    plt.imshow(out[0], cmap = 'gray')\n",
        "    plt.show()\n",
        "    print(label[0])"
      ],
      "execution_count": 8,
      "outputs": [
        {
          "output_type": "display_data",
          "data": {
            "image/png": "[encoded data removed]",
            "text/plain": [
              "<Figure size 432x288 with 3 Axes>"
            ]
          },
          "metadata": {
            "tags": []
          }
        },
        {
          "output_type": "stream",
          "text": [
            "tensor(1)\n"
          ],
          "name": "stdout"
        },
        {
          "output_type": "display_data",
          "data": {
            "image/png": "[encoded data removed]",
            "text/plain": [
              "<Figure size 432x288 with 3 Axes>"
            ]
          },
          "metadata": {
            "tags": []
          }
        },
        {
          "output_type": "stream",
          "text": [
            "tensor(1)\n"
          ],
          "name": "stdout"
        },
        {
          "output_type": "display_data",
          "data": {
            "image/png": "[encoded data removed]",
            "text/plain": [
              "<Figure size 432x288 with 3 Axes>"
            ]
          },
          "metadata": {
            "tags": []
          }
        },
        {
          "output_type": "stream",
          "text": [
            "tensor(1)\n"
          ],
          "name": "stdout"
        },
        {
          "output_type": "display_data",
          "data": {
            "image/png": "[encoded data removed]",
            "text/plain": [
              "<Figure size 432x288 with 3 Axes>"
            ]
          },
          "metadata": {
            "tags": []
          }
        },
        {
          "output_type": "stream",
          "text": [
            "tensor(1)\n"
          ],
          "name": "stdout"
        },
        {
          "output_type": "display_data",
          "data": {
            "image/png": "[encoded data removed]",
            "text/plain": [
              "<Figure size 432x288 with 3 Axes>"
            ]
          },
          "metadata": {
            "tags": []
          }
        },
        {
          "output_type": "stream",
          "text": [
            "tensor(1)\n"
          ],
          "name": "stdout"
        }
      ]
    }
  ]
}